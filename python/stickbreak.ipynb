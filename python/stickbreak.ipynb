{
 "cells": [
  {
   "cell_type": "markdown",
   "metadata": {},
   "source": [
    "# Blocked Gibbs algorithm + logit SB mixing"
   ]
  },
  {
   "cell_type": "code",
   "execution_count": null,
   "metadata": {},
   "outputs": [],
   "source": [
    "import numpy as np\n",
    "import matplotlib.pyplot as plt\n",
    "import pandas as pd\n",
    "import subprocess\n",
    "from sklearn.metrics.cluster import adjusted_rand_score\n",
    "from sklearn.model_selection import train_test_split\n",
    "\n",
    "# Utility to save files with Unix-like newlines\n",
    "def save_np(filename, npobj):\n",
    "    with open(filename, 'wb') as f:\n",
    "        np.savetxt(f, npobj, fmt='%1.5f')\n",
    "\n",
    "# Sigmoid function\n",
    "def sigmoid(x):\n",
    "    return 1.0 / (1 + np.exp(-x))"
   ]
  },
  {
   "cell_type": "markdown",
   "metadata": {},
   "source": [
    "## Test 1"
   ]
  },
  {
   "cell_type": "markdown",
   "metadata": {},
   "source": [
    "Initialize parameters:"
   ]
  },
  {
   "cell_type": "code",
   "execution_count": null,
   "metadata": {},
   "outputs": [],
   "source": [
    "dim = 2\n",
    "n_clus = 3\n",
    "x_centers = np.column_stack(([-5, 0], [5, 0], [0, 5]))\n",
    "x_var = (1.5)**2\n",
    "y_centers = [4*_ for _ in range(dim+1)]\n",
    "y_var = 1\n",
    "weights = [0.2, 0.2, 0.6]"
   ]
  },
  {
   "cell_type": "markdown",
   "metadata": {},
   "source": [
    "Generate data:"
   ]
  },
  {
   "cell_type": "code",
   "execution_count": null,
   "metadata": {},
   "outputs": [],
   "source": [
    "n = 200\n",
    "np.random.seed(20201124)\n",
    "# Allocations\n",
    "cc = []\n",
    "for c in range(n_clus):\n",
    "    nn = int(weights[c] * n)\n",
    "    cc.extend(nn * [c])\n",
    "# Covariates\n",
    "xx = np.zeros((n, dim))\n",
    "for i in range(n):\n",
    "    x = np.random.multivariate_normal(mean=x_centers[:,cc[i]],\n",
    "                                      cov=x_var*np.identity(dim))\n",
    "    xx[i,:] = x\n",
    "# Data points\n",
    "yy = np.zeros(n)\n",
    "for i in range(n):\n",
    "    y = np.random.normal(loc=y_centers[cc[i]], scale=y_var)\n",
    "    yy[i] = y"
   ]
  },
  {
   "cell_type": "markdown",
   "metadata": {},
   "source": [
    "Split into train and test sets:"
   ]
  },
  {
   "cell_type": "code",
   "execution_count": null,
   "metadata": {},
   "outputs": [],
   "source": [
    "np.random.seed(20201124)\n",
    "perc_test = 0.25\n",
    "xx_train, xx_test, yy_train, yy_test = train_test_split(xx, yy,\n",
    "    test_size=perc_test, shuffle=False)\n",
    "# Save to file\n",
    "save_np(\"../resources/csv/in/logsb_cov_mix_1.csv\", xx_train)\n",
    "save_np(\"../resources/csv/in/logsb_data_1.csv\", yy_train)\n",
    "save_np(\"../resources/csv/in/logsb_grid_cov_mix_1.csv\", xx_test)\n",
    "save_np(\"../resources/csv/in/logsb_grid_data_1.csv\", yy_test)"
   ]
  },
  {
   "cell_type": "markdown",
   "metadata": {},
   "source": [
    "Run the executable:"
   ]
  },
  {
   "cell_type": "code",
   "execution_count": null,
   "metadata": {},
   "outputs": [],
   "source": [
    "cmd = ('../build/run ../algo_settings.asciipb '\n",
    "    'NNIG ../resources/asciipb/nnig_ngg_prior.asciipb '\n",
    "    'LogSB ../resources/asciipb/lsb_normal_prior.asciipb \"\" '\n",
    "    '../resources/csv/in/logsb_data_1.csv ../resources/csv/in/logsb_grid_data_1.csv '\n",
    "    '../resources/csv/out/logsb_dens_1.csv ../resources/csv/out/logsb_nclu_1.csv '\n",
    "    '../resources/csv/out/logsb_clus_1.csv \"\" \"\" '\n",
    "    '../resources/csv/in/logsb_cov_mix_1.csv '\n",
    "    '../resources/csv/in/logsb_grid_cov_mix_1.csv').split()\n",
    "subprocess.run(cmd, capture_output=True)"
   ]
  },
  {
   "cell_type": "markdown",
   "metadata": {},
   "source": [
    "## Test 2"
   ]
  },
  {
   "cell_type": "markdown",
   "metadata": {},
   "source": [
    "Initialize parameters:"
   ]
  },
  {
   "cell_type": "code",
   "execution_count": null,
   "metadata": {},
   "outputs": [],
   "source": [
    "dim2 = 3\n",
    "n_clus2 = 4\n",
    "alphas = np.identity(n_clus2-1)\n",
    "x_mean = np.array(dim2*[1])\n",
    "x_var2 = (1.5)**2\n",
    "y_centers2 = [4*_ for _ in range(dim2+1)]\n",
    "y_var2 = 1"
   ]
  },
  {
   "cell_type": "markdown",
   "metadata": {},
   "source": [
    "Generate data:"
   ]
  },
  {
   "cell_type": "code",
   "execution_count": null,
   "metadata": {},
   "outputs": [],
   "source": [
    "np.random.seed(20201124)\n",
    "n2 = 200\n",
    "# Covariates\n",
    "xx2 = np.random.multivariate_normal(mean=x_mean,\n",
    "    cov=x_var2*np.identity(dim2), size=n2)\n",
    "# Data points\n",
    "yy2 = np.zeros(n2)\n",
    "for i in range(n2):\n",
    "    ## Generate nu_h(xi)\n",
    "    nu = np.zeros(n_clus2-1)\n",
    "    for h in range(n_clus2-1):\n",
    "        nu[h] = sigmoid(np.dot(alphas[:, h], xx2[i]))\n",
    "    ## Generate weights\n",
    "    weights = np.zeros(n_clus2)\n",
    "    for h in range(n_clus2-1):\n",
    "        weights[h] = nu[h]\n",
    "        for k in range(h):\n",
    "            weights[h] *= 1-nu[k]\n",
    "    weights[n_clus2-1] = 1 - weights[:n_clus2-1].sum()\n",
    "    ## Choose cluster and generate yi\n",
    "    c = np.random.choice(n_clus2, p=weights)\n",
    "    yy2[i] = np.random.normal(loc=y_centers2[c], scale=y_var2)"
   ]
  },
  {
   "cell_type": "markdown",
   "metadata": {},
   "source": [
    "Split into train and test sets:"
   ]
  },
  {
   "cell_type": "code",
   "execution_count": null,
   "metadata": {},
   "outputs": [],
   "source": [
    "np.random.seed(20201124)\n",
    "perc_test2 = 0.25\n",
    "xx_train2, xx_test2, yy_train2, yy_test2 = train_test_split(xx2, yy2,\n",
    "    test_size=perc_test2, shuffle=False)\n",
    "# Save to file\n",
    "save_np(\"../resources/csv/in/logsb_cov_mix_2.csv\", xx_train2)\n",
    "save_np(\"../resources/csv/in/logsb_data_2.csv\", yy_train2)\n",
    "save_np(\"../resources/csv/in/logsb_grid_cov_mix_2.csv\", xx_test2)\n",
    "save_np(\"../resources/csv/in/logsb_grid_data_2.csv\", yy_test2)"
   ]
  },
  {
   "cell_type": "markdown",
   "metadata": {},
   "source": [
    "Run the executable:"
   ]
  },
  {
   "cell_type": "code",
   "execution_count": null,
   "metadata": {},
   "outputs": [],
   "source": [
    "cmd = ('../build/run ../algo_settings.asciipb '\n",
    "    'NNIG ../resources/asciipb/nnig_ngg_prior.asciipb '\n",
    "    'LogSB ../resources/asciipb/lsb_normal_prior.asciipb \"\" '\n",
    "    '../resources/csv/in/logsb_data_2.csv ../resources/csv/in/logsb_grid_data_2.csv '\n",
    "    '../resources/csv/out/logsb_dens_2.csv ../resources/csv/out/logsb_nclu_2.csv '\n",
    "    '../resources/csv/out/logsb_clus_2.csv \"\" \"\" '\n",
    "    '../resources/csv/in/logsb_cov_mix_2.csv '\n",
    "    '../resources/csv/in/logsb_grid_cov_mix_2.csv').split()\n",
    "subprocess.run(cmd, capture_output=True)"
   ]
  },
  {
   "cell_type": "markdown",
   "metadata": {},
   "source": [
    "## Plot density"
   ]
  },
  {
   "cell_type": "code",
   "execution_count": null,
   "metadata": {},
   "outputs": [],
   "source": [
    "# matr = np.genfromtxt(\"../resources/csv/out/logsb_dens.csv\", delimiter=',')"
   ]
  },
  {
   "cell_type": "code",
   "execution_count": null,
   "metadata": {},
   "outputs": [],
   "source": [
    "plt.plot(yy_grid, np.exp(matr[5,:]))\n",
    "plt.plot(yy_grid, np.exp(matr[29,:]))\n",
    "plt.plot(yy_grid, np.exp(matr[400,:]))\n",
    "plt.plot(yy_grid, np.exp(np.mean(matr, axis=0)), linestyle='--')\n",
    "plt.title(\"Densities\")"
   ]
  },
  {
   "cell_type": "markdown",
   "metadata": {},
   "source": [
    "## Rand scores"
   ]
  },
  {
   "cell_type": "code",
   "execution_count": null,
   "metadata": {},
   "outputs": [],
   "source": [
    "# adjusted_rand_score(cl1.astype(int), cl2.astype(int))"
   ]
  }
 ],
 "metadata": {
  "kernelspec": {
   "display_name": "Python 3",
   "language": "python",
   "name": "python3"
  },
  "language_info": {
   "codemirror_mode": {
    "name": "ipython",
    "version": 3
   },
   "file_extension": ".py",
   "mimetype": "text/x-python",
   "name": "python",
   "nbconvert_exporter": "python",
   "pygments_lexer": "ipython3",
   "version": "3.8.6"
  }
 },
 "nbformat": 4,
 "nbformat_minor": 4
}
