{
 "cells": [
  {
   "cell_type": "markdown",
   "metadata": {},
   "source": [
    "# Bayesian linear regression"
   ]
  },
  {
   "cell_type": "code",
   "execution_count": null,
   "metadata": {},
   "outputs": [],
   "source": [
    "import numpy as np\n",
    "import matplotlib.pyplot as plt\n",
    "import pandas as pd\n",
    "import subprocess"
   ]
  },
  {
   "cell_type": "code",
   "execution_count": null,
   "metadata": {},
   "outputs": [],
   "source": [
    "# Initialize true parameters\n",
    "dim = 2\n",
    "centers = [np.array([-5, 0]), np.array([5, 0]), np.array([0, 5])]"
   ]
  },
  {
   "cell_type": "code",
   "execution_count": null,
   "metadata": {},
   "outputs": [],
   "source": [
    "# Utility to save files with Unix-like newlines\n",
    "def save_np(filename, npobj):\n",
    "    with open(filename, 'wb') as f:\n",
    "        np.savetxt(f, npobj, fmt='%1.5f')"
   ]
  },
  {
   "cell_type": "code",
   "execution_count": null,
   "metadata": {},
   "outputs": [],
   "source": [
    "# Generate data\n",
    "rng = 20201124\n",
    "np.random.seed(rng)\n",
    "n = 200\n",
    "xx = np.zeros((n, dim))\n",
    "cc = int(n/3)*[0] + int(n/3)*[1] + (n - 2*int(n/3))*[2]\n",
    "yy = np.zeros(n)\n",
    "for i in range(n):\n",
    "    x = np.random.multivariate_normal(mean=centers[cc[i]],\n",
    "                                      cov=np.identity(dim))\n",
    "    xx[i,:] = x\n",
    "    # mu = np.dot(x, centers[cc[i]])\n",
    "    mu = 4 * cc[i]\n",
    "    y = np.random.normal(loc=mu, scale=1) # TODO ?\n",
    "    yy[i] = y\n",
    "# Save to file\n",
    "save_np(\"../resources/csv/in/logsb_cov_mix.csv\", xx)\n",
    "save_np(\"../resources/csv/in/logsb_data.csv\", yy)"
   ]
  },
  {
   "cell_type": "code",
   "execution_count": null,
   "metadata": {},
   "outputs": [],
   "source": [
    "# Generate grid points\n",
    "xx_grid = np.matrix([0, 5])\n",
    "yy_grid = np.arange(-1, +9.1, 0.5)\n",
    "# Save to file\n",
    "save_np(\"../resources/csv/in/logsb_grid_cov_mix.csv\", xx_grid)\n",
    "save_np(\"../resources/csv/in/logsb_grid_data.csv\", yy_grid)"
   ]
  },
  {
   "cell_type": "code",
   "execution_count": null,
   "metadata": {},
   "outputs": [],
   "source": [
    "# Run the executable\n",
    "cmd = ('../build/run ../algo_settings.asciipb '\n",
    "    'NNIG ../resources/asciipb/nnig_ngg_prior.asciipb '\n",
    "    'LogSB ../resources/asciipb/lsb_normal_prior.asciipb \"\" '\n",
    "    '../resources/csv/in/logsb_data.csv ../resources/csv/in/logsb_grid_data.csv '\n",
    "    '../resources/csv/out/logsb_dens.csv ../resources/csv/out/logsb_nclu.csv '\n",
    "    '../resources/csv/out/logsb_clus.csv \"\" \"\" '\n",
    "    '../resources/csv/in/logsb_cov_mix.csv \n",
    "    '../resources/csv/in/logsb_grid_cov_mix.csv').split()\n",
    "subprocess.run(cmd, capture_output=True)"
   ]
  },
  {
   "cell_type": "markdown",
   "metadata": {},
   "source": [
    "## Plot density"
   ]
  },
  {
   "cell_type": "code",
   "execution_count": null,
   "metadata": {},
   "outputs": [],
   "source": [
    "matr = np.genfromtxt(\"../resources/csv/out/logsb_dens.csv\", delimiter=',')"
   ]
  },
  {
   "cell_type": "code",
   "execution_count": null,
   "metadata": {},
   "outputs": [],
   "source": [
    "plt.plot(yy_grid, np.exp(matr[5,:]))\n",
    "plt.plot(yy_grid, np.exp(matr[29,:]))\n",
    "plt.plot(yy_grid, np.exp(matr[400,:]))\n",
    "plt.plot(yy_grid, np.exp(np.mean(matr, axis=0)), linestyle='--')\n",
    "plt.title(\"Densities\")"
   ]
  },
  {
   "cell_type": "code",
   "execution_count": null,
   "metadata": {},
   "outputs": [],
   "source": []
  }
 ],
 "metadata": {
  "kernelspec": {
   "display_name": "Python 3",
   "language": "python",
   "name": "python3"
  },
  "language_info": {
   "codemirror_mode": {
    "name": "ipython",
    "version": 3
   },
   "file_extension": ".py",
   "mimetype": "text/x-python",
   "name": "python",
   "nbconvert_exporter": "python",
   "pygments_lexer": "ipython3",
   "version": "3.8.6"
  }
 },
 "nbformat": 4,
 "nbformat_minor": 4
}
