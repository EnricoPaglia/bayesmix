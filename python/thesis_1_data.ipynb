{
 "cells": [
  {
   "cell_type": "markdown",
   "metadata": {},
   "source": [
    "# Downloading datasets"
   ]
  },
  {
   "cell_type": "code",
   "execution_count": null,
   "metadata": {},
   "outputs": [],
   "source": [
    "# Load package (install if not present)\n",
    "if (!require(\"pracma\")) {\n",
    "    install.packages(\"pracma\")\n",
    "    require(\"pracma\")\n",
    "}"
   ]
  },
  {
   "cell_type": "markdown",
   "metadata": {},
   "source": [
    "## ```galaxy``` dataset"
   ]
  },
  {
   "cell_type": "code",
   "execution_count": null,
   "metadata": {},
   "outputs": [],
   "source": [
    "# Load package (install if not present)\n",
    "if (!require(\"BNPdensity\")) {\n",
    "    install.packages(\"BNPdensity\")\n",
    "    require(\"BNPdensity\")\n",
    "}"
   ]
  },
  {
   "cell_type": "code",
   "execution_count": null,
   "metadata": {},
   "outputs": [],
   "source": [
    "# Write dataset\n",
    "write.table(galaxy, \"../resources/csv/in/galaxy.csv\",\n",
    "            row.names = FALSE, col.names = FALSE)"
   ]
  },
  {
   "cell_type": "code",
   "execution_count": null,
   "metadata": {},
   "outputs": [],
   "source": [
    "# Create and write grid\n",
    "galaxy.grid = linspace(5, 40, n=36)\n",
    "write.table(galaxy.grid, \"../resources/csv/in/galaxy_grid.csv\",\n",
    "            row.names = FALSE, col.names = FALSE)"
   ]
  },
  {
   "cell_type": "markdown",
   "metadata": {},
   "source": [
    "## ```faithful``` dataset"
   ]
  },
  {
   "cell_type": "code",
   "execution_count": null,
   "metadata": {},
   "outputs": [],
   "source": [
    "# Load package (install if not present)\n",
    "if (!require(\"data.table\")) {\n",
    "    install.packages(\"data.table\")\n",
    "    require(\"data.table\")\n",
    "}"
   ]
  },
  {
   "cell_type": "code",
   "execution_count": null,
   "metadata": {},
   "outputs": [],
   "source": [
    "# Transform data\n",
    "erupt = faithful[, \"eruptions\"]\n",
    "faith.new = data.frame(x1=erupt, x2=shift(erupt, n=-1))\n",
    "faith.new = head(faith.new, -1)"
   ]
  },
  {
   "cell_type": "code",
   "execution_count": null,
   "metadata": {},
   "outputs": [],
   "source": [
    "# Dataset comparison\n",
    "print(\"Original:\")\n",
    "tail(faithful)\n",
    "print(\"New:\")\n",
    "tail(faith.new)"
   ]
  },
  {
   "cell_type": "code",
   "execution_count": null,
   "metadata": {},
   "outputs": [],
   "source": [
    "# Write dataset\n",
    "write.table(faith.new, \"../resources/csv/in/faithful.csv\",\n",
    "            row.names = FALSE, col.names = FALSE)"
   ]
  },
  {
   "cell_type": "code",
   "execution_count": null,
   "metadata": {},
   "outputs": [],
   "source": [
    "# Create and write grid\n",
    "nn=20\n",
    "lin = linspace(1, 5.5, n=nn)\n",
    "faith.grid = data.frame(x1=double(), x2=double())\n",
    "for (rr in lin) {\n",
    "    for(cc in lin) {\n",
    "        faith.grid[nrow(faith.grid)+1,] = c(rr,cc)\n",
    "    }\n",
    "}\n",
    "write.table(faith.grid, \"../resources/csv/in/faithful_grid.csv\",\n",
    "            row.names = FALSE, col.names = FALSE)"
   ]
  },
  {
   "cell_type": "markdown",
   "metadata": {},
   "source": [
    "## ```dde``` dataset"
   ]
  },
  {
   "cell_type": "code",
   "execution_count": null,
   "metadata": {},
   "outputs": [],
   "source": [
    "# Recover dataset from Github\n",
    "load(url(\"https://github.com/tommasorigon/LSBP/blob/master/Tutorial/dde.RData?raw=true\"))"
   ]
  },
  {
   "cell_type": "code",
   "execution_count": null,
   "metadata": {},
   "outputs": [],
   "source": [
    "# Split into x and y\n",
    "X = dde['DDE']  # mixing covariates\n",
    "Y = dde['GAD']  # data"
   ]
  },
  {
   "cell_type": "code",
   "execution_count": null,
   "metadata": {},
   "outputs": [],
   "source": [
    "# Write datasets\n",
    "write.table(X, \"../resources/csv/in/dde_covs.csv\",\n",
    "            row.names = FALSE, col.names = FALSE)\n",
    "write.table(Y, \"../resources/csv/in/dde.csv\",\n",
    "            row.names = FALSE, col.names = FALSE)"
   ]
  },
  {
   "cell_type": "code",
   "execution_count": null,
   "metadata": {},
   "outputs": [],
   "source": [
    "# Create and write grid\n",
    "dde.grid = linspace(as.integer(min(Y)-5), as.integer(max(Y)+5), n=250)\n",
    "write.table(dde.grid, \"../resources/csv/in/dde_grid.csv\",\n",
    "            row.names = FALSE, col.names = FALSE)"
   ]
  },
  {
   "cell_type": "code",
   "execution_count": null,
   "metadata": {},
   "outputs": [],
   "source": []
  }
 ],
 "metadata": {
  "kernelspec": {
   "display_name": "R",
   "language": "R",
   "name": "ir"
  },
  "language_info": {
   "codemirror_mode": "r",
   "file_extension": ".r",
   "mimetype": "text/x-r-source",
   "name": "R",
   "pygments_lexer": "r",
   "version": "4.0.4"
  }
 },
 "nbformat": 4,
 "nbformat_minor": 4
}
