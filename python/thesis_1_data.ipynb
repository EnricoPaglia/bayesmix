{
 "cells": [
  {
   "cell_type": "markdown",
   "metadata": {},
   "source": [
    "# Downloading datasets"
   ]
  },
  {
   "cell_type": "code",
   "execution_count": null,
   "metadata": {},
   "outputs": [],
   "source": [
    "# Load package (install if not present)\n",
    "if (!require(\"pracma\")) {\n",
    "    install.packages(\"pracma\")\n",
    "    require(\"pracma\")\n",
    "}"
   ]
  },
  {
   "cell_type": "markdown",
   "metadata": {},
   "source": [
    "## ```galaxy``` dataset"
   ]
  },
  {
   "cell_type": "code",
   "execution_count": null,
   "metadata": {},
   "outputs": [],
   "source": [
    "# Load package (install if not present)\n",
    "if (!require(\"BNPdensity\")) {\n",
    "    install.packages(\"BNPdensity\")\n",
    "    require(\"BNPdensity\")\n",
    "}"
   ]
  },
  {
   "cell_type": "code",
   "execution_count": null,
   "metadata": {},
   "outputs": [],
   "source": [
    "# Write dataset\n",
    "f = file(\"../resources/csv/in/thesis/galaxy.csv\", \"wb\")\n",
    "write.table(galaxy, f, row.names = FALSE, col.names = FALSE)"
   ]
  },
  {
   "cell_type": "code",
   "execution_count": null,
   "metadata": {},
   "outputs": [],
   "source": [
    "# Create and write grid\n",
    "galaxy.grid = linspace(5, 40, n=36)\n",
    "f = file(\"../resources/csv/in/thesis/galaxy_grid.csv\", \"wb\")\n",
    "write.table(galaxy.grid, f, row.names = FALSE, col.names = FALSE)"
   ]
  },
  {
   "cell_type": "markdown",
   "metadata": {},
   "source": [
    "## ```faithful``` dataset"
   ]
  },
  {
   "cell_type": "code",
   "execution_count": null,
   "metadata": {},
   "outputs": [],
   "source": [
    "# Load package (install if not present)\n",
    "if (!require(\"data.table\")) {\n",
    "    install.packages(\"data.table\")\n",
    "    require(\"data.table\")\n",
    "}"
   ]
  },
  {
   "cell_type": "code",
   "execution_count": null,
   "metadata": {},
   "outputs": [],
   "source": [
    "# Transform data\n",
    "erupt = faithful[, \"eruptions\"]\n",
    "faith.new = data.frame(x1=erupt, x2=shift(erupt, n=-1))\n",
    "faith.new = head(faith.new, -1)"
   ]
  },
  {
   "cell_type": "code",
   "execution_count": null,
   "metadata": {},
   "outputs": [],
   "source": [
    "# Dataset comparison\n",
    "print(\"Original:\")\n",
    "tail(faithful)\n",
    "print(\"New:\")\n",
    "tail(faith.new)"
   ]
  },
  {
   "cell_type": "code",
   "execution_count": null,
   "metadata": {},
   "outputs": [],
   "source": [
    "# Write dataset\n",
    "f = file(\"../resources/csv/in/thesis/faithful.csv\", \"wb\")\n",
    "write.table(faith.new, f, row.names = FALSE, col.names = FALSE)"
   ]
  },
  {
   "cell_type": "code",
   "execution_count": null,
   "metadata": {},
   "outputs": [],
   "source": [
    "# Create and write grid\n",
    "nn=20\n",
    "lin = linspace(1, 5.5, n=nn)\n",
    "faith.grid = data.frame(x1=double(), x2=double())\n",
    "for (rr in lin) {\n",
    "    for(cc in lin) {\n",
    "        faith.grid[nrow(faith.grid)+1,] = c(rr,cc)\n",
    "    }\n",
    "}\n",
    "f = file(\"../resources/csv/in/thesis/faithful_grid.csv\", \"wb\")\n",
    "write.table(faith.grid, f, row.names = FALSE, col.names = FALSE)"
   ]
  },
  {
   "cell_type": "markdown",
   "metadata": {},
   "source": [
    "## ```dde``` dataset"
   ]
  },
  {
   "cell_type": "code",
   "execution_count": null,
   "metadata": {},
   "outputs": [],
   "source": [
    "# Recover dataset from Github\n",
    "load(url(\"https://github.com/tommasorigon/LSBP/blob/master/Tutorial/dde.RData?raw=true\"))"
   ]
  },
  {
   "cell_type": "code",
   "execution_count": null,
   "metadata": {},
   "outputs": [],
   "source": [
    "# Split into x and y\n",
    "X = dde['DDE']  # mixing covariates\n",
    "Y = dde['GAD']  # data"
   ]
  },
  {
   "cell_type": "code",
   "execution_count": null,
   "metadata": {},
   "outputs": [],
   "source": [
    "# Write datasets\n",
    "fx = file(\"../resources/csv/in/thesis/dde_covs.csv\", \"wb\")\n",
    "write.table(X, fx, row.names = FALSE, col.names = FALSE)\n",
    "fy = file(\"../resources/csv/in/thesis/dde.csv\", \"wb\")\n",
    "write.table(Y, fy, row.names = FALSE, col.names = FALSE)"
   ]
  },
  {
   "cell_type": "code",
   "execution_count": null,
   "metadata": {},
   "outputs": [],
   "source": [
    "# Create and write grid\n",
    "dde.grid = linspace(as.integer(min(Y)-5), as.integer(max(Y)+5), n=250)\n",
    "f = file(\"../resources/csv/in/thesis/dde_grid.csv\", \"wb\")\n",
    "write.table(dde.grid, f, row.names = FALSE, col.names = FALSE)"
   ]
  },
  {
   "cell_type": "code",
   "execution_count": null,
   "metadata": {},
   "outputs": [],
   "source": [
    "# Create and write covariate grid point\n",
    "dde.cov.grid = c(95)\n",
    "f = file(\"../resources/csv/in/thesis/dde_covs_grid.csv\", \"wb\")\n",
    "write.table(dde.cov.grid, f, row.names = FALSE, col.names = FALSE)"
   ]
  },
  {
   "cell_type": "code",
   "execution_count": null,
   "metadata": {},
   "outputs": [],
   "source": []
  }
 ],
 "metadata": {
  "kernelspec": {
   "display_name": "R",
   "language": "R",
   "name": "ir"
  },
  "language_info": {
   "codemirror_mode": "r",
   "file_extension": ".r",
   "mimetype": "text/x-r-source",
   "name": "R",
   "pygments_lexer": "r",
   "version": "4.0.4"
  }
 },
 "nbformat": 4,
 "nbformat_minor": 4
}
