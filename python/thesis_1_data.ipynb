{
 "cells": [
  {
   "cell_type": "markdown",
   "metadata": {},
   "source": [
    "# Downloading datasets"
   ]
  },
  {
   "cell_type": "markdown",
   "metadata": {},
   "source": [
    "## ```galaxy``` dataset"
   ]
  },
  {
   "cell_type": "code",
   "execution_count": null,
   "metadata": {},
   "outputs": [],
   "source": [
    "# Load package (install if not present)\n",
    "if (!require(\"BNPdensity\")) {\n",
    "    install.packages(\"BNPdensity\")\n",
    "    require(\"BNPdensity\")\n",
    "}"
   ]
  },
  {
   "cell_type": "code",
   "execution_count": null,
   "metadata": {},
   "outputs": [],
   "source": [
    "# Write dataset\n",
    "write.table(galaxy, \"../resources/csv/in/galaxy.csv\",\n",
    "            row.names = FALSE, col.names = FALSE)"
   ]
  },
  {
   "cell_type": "markdown",
   "metadata": {},
   "source": [
    "## ```faithful``` dataset"
   ]
  },
  {
   "cell_type": "code",
   "execution_count": null,
   "metadata": {},
   "outputs": [],
   "source": [
    "# Load package (install if not present)\n",
    "if (!require(\"data.table\")) {\n",
    "    install.packages(\"data.table\")\n",
    "    require(\"data.table\")\n",
    "}"
   ]
  },
  {
   "cell_type": "code",
   "execution_count": null,
   "metadata": {},
   "outputs": [],
   "source": [
    "# Transform data\n",
    "erupt = faithful[, \"eruptions\"]\n",
    "faith.new = data.frame(x1=erupt, x2=shift(erupt, n=-1))\n",
    "faith.new = head(faith.new, -1)"
   ]
  },
  {
   "cell_type": "code",
   "execution_count": null,
   "metadata": {},
   "outputs": [],
   "source": [
    "# Dataset comparison\n",
    "print(\"Original:\")\n",
    "tail(faithful)\n",
    "print(\"New:\")\n",
    "tail(faith.new)"
   ]
  },
  {
   "cell_type": "code",
   "execution_count": null,
   "metadata": {},
   "outputs": [],
   "source": [
    "# Write dataset\n",
    "write.table(faith.new, \"../resources/csv/in/faithful.csv\",\n",
    "            row.names = FALSE, col.names = FALSE)"
   ]
  },
  {
   "cell_type": "markdown",
   "metadata": {},
   "source": [
    "## ```dde``` dataset"
   ]
  },
  {
   "cell_type": "code",
   "execution_count": null,
   "metadata": {},
   "outputs": [],
   "source": [
    "# Recover dataset from Github\n",
    "load(url(\"https://github.com/tommasorigon/LSBP/blob/master/Tutorial/dde.RData?raw=true\"))"
   ]
  },
  {
   "cell_type": "code",
   "execution_count": null,
   "metadata": {},
   "outputs": [],
   "source": [
    "# Split into x and y\n",
    "X = dde['DDE']  # mixing covariates\n",
    "Y = dde['GAD']  # data"
   ]
  },
  {
   "cell_type": "code",
   "execution_count": null,
   "metadata": {},
   "outputs": [],
   "source": [
    "# Write datasets\n",
    "write.table(X, \"../resources/csv/in/dde_dde.csv\",\n",
    "            row.names = FALSE, col.names = FALSE)\n",
    "write.table(Y, \"../resources/csv/in/dde_gad.csv\",\n",
    "            row.names = FALSE, col.names = FALSE)"
   ]
  },
  {
   "cell_type": "code",
   "execution_count": null,
   "metadata": {},
   "outputs": [],
   "source": []
  }
 ],
 "metadata": {
  "kernelspec": {
   "display_name": "R",
   "language": "R",
   "name": "ir"
  },
  "language_info": {
   "codemirror_mode": "r",
   "file_extension": ".r",
   "mimetype": "text/x-r-source",
   "name": "R",
   "pygments_lexer": "r",
   "version": "4.0.4"
  }
 },
 "nbformat": 4,
 "nbformat_minor": 4
}
