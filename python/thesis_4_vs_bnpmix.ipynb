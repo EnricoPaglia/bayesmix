{
 "cells": [
  {
   "cell_type": "markdown",
   "metadata": {},
   "source": [
    "# Comparison with package ```BNPmix```"
   ]
  },
  {
   "cell_type": "code",
   "execution_count": null,
   "metadata": {},
   "outputs": [],
   "source": [
    "import subprocess\n",
    "import numpy as np\n",
    "import pandas as pd\n",
    "import matplotlib.pyplot as plt\n",
    "from mpl_toolkits.mplot3d import Axes3D\n",
    "import arviz as az\n",
    "\n",
    "# Define paths\n",
    "CSVIN =  '../resources/csv/in/thesis'\n",
    "CSVOUT = '../resources/csv/out/thesis'\n",
    "RECORDIO = '../resources/recordio'"
   ]
  },
  {
   "cell_type": "markdown",
   "metadata": {},
   "source": [
    "## ```galaxy``` dataset"
   ]
  },
  {
   "cell_type": "code",
   "execution_count": null,
   "metadata": {},
   "outputs": [],
   "source": [
    "# Read data and grid\n",
    "galaxy_data = np.genfromtxt(f\"{CSVIN}/galaxy.csv\")\n",
    "galaxy_grid = np.genfromtxt(f\"{CSVIN}/galaxy_grid.csv\")"
   ]
  },
  {
   "cell_type": "code",
   "execution_count": null,
   "metadata": {},
   "outputs": [],
   "source": [
    "# Define algorithms and mixings lists\n",
    "mix = 'PY'\n",
    "algos1 = 'Neal2 Neal3 Neal8'.split()\n",
    "algos2 = 'mar ics'.split()"
   ]
  },
  {
   "cell_type": "code",
   "execution_count": null,
   "metadata": {},
   "outputs": [],
   "source": [
    "# Read densities\n",
    "galaxy_dens_1 = dict()\n",
    "galaxy_dens_2 = dict()\n",
    "for algo in algos1:\n",
    "    fdens = f\"{CSVOUT}/galaxy_dens_{algo}_{mix}.csv\"\n",
    "    galaxy_dens_1[algo] = np.genfromtxt(fdens, delimiter=',')\n",
    "for algo in algos2:\n",
    "    fdens = f\"{CSVOUT}/galaxy_dens_bnpmix_{algo}.csv\"\n",
    "    galaxy_dens_2[algo] = np.genfromtxt(fdens, delimiter=',')"
   ]
  },
  {
   "cell_type": "code",
   "execution_count": null,
   "metadata": {},
   "outputs": [],
   "source": [
    "# Plot densities\n",
    "fig = plt.figure(figsize=(10,6))\n",
    "plt.hist(galaxy_data, density=True, color='lightgray')\n",
    "# Means use 1-in-2 thinning\n",
    "for algo in algos1:\n",
    "    dens = np.exp(np.mean(galaxy_dens_1[algo][0::2], axis=0))\n",
    "    plt.plot(galaxy_grid, dens)\n",
    "for algo in algos2:\n",
    "    dens = np.mean(galaxy_dens_2[algo][0::2], axis=0)\n",
    "    plt.plot(galaxy_grid, dens, linestyle='--')\n",
    "plt.title(\"Pitman-Yor density estimation with bayesmix (solid) and bnpmix (dashed)\")\n",
    "plt.legend(algos1 + algos2)"
   ]
  },
  {
   "cell_type": "code",
   "execution_count": null,
   "metadata": {},
   "outputs": [],
   "source": [
    "# Compute Effective Sample Sizes\n",
    "galaxy_ESS1 = dict()\n",
    "galaxy_ESS2 = dict()\n",
    "galaxy_ESS1[mix] = dict()\n",
    "galaxy_ESS2[mix] = dict()\n",
    "for algo in algos1:\n",
    "    n_clust = np.genfromtxt(f\"{CSVOUT}/galaxy_nclu_{algo}_{mix}.csv\")\n",
    "    galaxy_ESS1[mix][algo] = az.ess(n_clust)\n",
    "for algo in algos2:\n",
    "    n_clust = np.genfromtxt(f\"{CSVOUT}/galaxy_nclu_bnpmix_{algo}.csv\")\n",
    "    galaxy_ESS2[mix][algo] = az.ess(n_clust)\n",
    "# Show ESSs\n",
    "print(\"galaxy ESS:\")\n",
    "print(galaxy_ESS1)\n",
    "print(galaxy_ESS2)"
   ]
  },
  {
   "cell_type": "code",
   "execution_count": null,
   "metadata": {},
   "outputs": [],
   "source": [
    "# Read execution times\n",
    "galaxy_times1 = {\n",
    "    \"Neal2\": 1.371,\n",
    "    \"Neal3\": 2.126,\n",
    "    \"Neal8\": 2.047\n",
    "}\n",
    "galaxy_times2 = {\n",
    "    \"mar\": 2.88611,\n",
    "    \"ics\": 2.98552\n",
    "}"
   ]
  },
  {
   "cell_type": "code",
   "execution_count": null,
   "metadata": {},
   "outputs": [],
   "source": [
    "# Compute ESS per second ratios\n",
    "galaxy_ratio1 = dict()\n",
    "galaxy_ratio2 = dict()\n",
    "for algo in algos1:\n",
    "    galaxy_ratio1[algo] = galaxy_ESS1[mix][algo] / galaxy_times1[algo]\n",
    "for algo in algos2:\n",
    "    galaxy_ratio2[algo] = galaxy_ESS2[mix][algo] / galaxy_times2[algo]\n",
    "print(\"galaxy ratios:\")\n",
    "print(galaxy_ratio1)\n",
    "print(galaxy_ratio2)"
   ]
  },
  {
   "cell_type": "markdown",
   "metadata": {},
   "source": [
    "## ```faithful``` dataset"
   ]
  },
  {
   "cell_type": "code",
   "execution_count": null,
   "metadata": {},
   "outputs": [],
   "source": [
    "# Read data and grid\n",
    "faithful_data = np.genfromtxt(f\"{CSVIN}/faithful.csv\")\n",
    "faithful_grid = np.genfromtxt(f\"{CSVIN}/faithful_grid.csv\")"
   ]
  },
  {
   "cell_type": "code",
   "execution_count": null,
   "metadata": {},
   "outputs": [],
   "source": [
    "# Define algorithms and mixings lists\n",
    "mix = 'PY'\n",
    "algos1 = 'Neal2 Neal3 Neal8'.split()\n",
    "algos2 = 'mar ics'.split()"
   ]
  },
  {
   "cell_type": "code",
   "execution_count": null,
   "metadata": {},
   "outputs": [],
   "source": [
    "# Read densities\n",
    "faithful_dens_1 = dict()\n",
    "faithful_dens_2 = dict()\n",
    "for algo in algos1:\n",
    "    fdens = f\"{CSVOUT}/faithful_dens_{algo}_{mix}.csv\"\n",
    "    faithful_dens_1[algo] = np.genfromtxt(fdens, delimiter=',')\n",
    "for algo in algos2:\n",
    "    fdens = f\"{CSVOUT}/faithful_dens_bnpmix_{algo}.csv\"\n",
    "    faithful_dens_2[algo] = np.genfromtxt(fdens, delimiter=',')"
   ]
  },
  {
   "cell_type": "code",
   "execution_count": null,
   "metadata": {},
   "outputs": [],
   "source": [
    "# Plot densities (contours in log-scale)\n",
    "fig = plt.figure(figsize=(14,18))\n",
    "fig.suptitle(7*\" \" + \"Pitman-Yor log-density estimation\", y=0.92, size='xx-large')\n",
    "algos_all = 'Neal8 mar Neal2 ics'.split()\n",
    "idx = 0\n",
    "for idx in range(1, len(algos_all)+1):\n",
    "    algo = algos_all[idx-1]\n",
    "    # Means use 1-in-2 thinning\n",
    "    if idx % 2 == 1:\n",
    "        # bayesmix\n",
    "        dens = np.mean(faithful_dens_1[algo][0::2], axis=0).reshape(-1,1)\n",
    "        lib = \"bayesmix\"\n",
    "    else:\n",
    "        # BNPmix\n",
    "        dens = np.log(np.mean(faithful_dens_2[algo][0::2], axis=0)).reshape(-1,1)\n",
    "        lib = \"BNPmix\"\n",
    "    plot_data = pd.DataFrame(np.hstack([faithful_grid, dens]), \n",
    "                             columns=[\"x\", \"y\", \"z\"])\n",
    "    Z = plot_data.pivot_table(index='x', columns='y', values='z').T.values\n",
    "    X_unique = np.sort(plot_data.x.unique())\n",
    "    Y_unique = np.sort(plot_data.y.unique())\n",
    "    X, Y = np.meshgrid(X_unique, Y_unique)\n",
    "    ax = fig.add_subplot(3, 2, idx)\n",
    "    if Z.any():\n",
    "        ax.contour(X, Y, Z)\n",
    "    ax.set_title(f\"{lib}'s {algo}\")"
   ]
  },
  {
   "cell_type": "code",
   "execution_count": null,
   "metadata": {},
   "outputs": [],
   "source": [
    "# Compute Effective Sample Sizes\n",
    "faithful_ESS1 = dict()\n",
    "faithful_ESS2 = dict()\n",
    "faithful_ESS1[mix] = dict()\n",
    "faithful_ESS2[mix] = dict()\n",
    "for algo in algos1:\n",
    "    n_clust = np.genfromtxt(f\"{CSVOUT}/faithful_nclu_{algo}_{mix}.csv\")\n",
    "    faithful_ESS1[mix][algo] = az.ess(n_clust)\n",
    "for algo in algos2:\n",
    "    n_clust = np.genfromtxt(f\"{CSVOUT}/faithful_nclu_bnpmix_{algo}.csv\")\n",
    "    faithful_ESS2[mix][algo] = az.ess(n_clust)\n",
    "# Show ESSs\n",
    "print(\"faithful ESS:\")\n",
    "print(faithful_ESS1)\n",
    "print(faithful_ESS2)"
   ]
  },
  {
   "cell_type": "code",
   "execution_count": null,
   "metadata": {},
   "outputs": [],
   "source": [
    "# Read execution times\n",
    "faithful_times1 = {\n",
    "    \"Neal2\":  6.703,\n",
    "    \"Neal3\": 45.815,\n",
    "    \"Neal8\": 43.019\n",
    "}\n",
    "faithful_times2 = {\n",
    "    \"mar\": 11.7906,\n",
    "    \"ics\":  8.82139\n",
    "}"
   ]
  },
  {
   "cell_type": "code",
   "execution_count": null,
   "metadata": {},
   "outputs": [],
   "source": [
    "# Compute ESS per second ratios\n",
    "faithful_ratio1 = dict()\n",
    "faithful_ratio2 = dict()\n",
    "for algo in algos1:\n",
    "    faithful_ratio1[algo] = faithful_ESS1[mix][algo] / faithful_times1[algo]\n",
    "for algo in algos2:\n",
    "    faithful_ratio2[algo] = faithful_ESS2[mix][algo] / faithful_times2[algo]\n",
    "print(\"faithful ratios:\")\n",
    "print(faithful_ratio1)\n",
    "print(faithful_ratio2)"
   ]
  },
  {
   "cell_type": "code",
   "execution_count": null,
   "metadata": {},
   "outputs": [],
   "source": []
  }
 ],
 "metadata": {
  "kernelspec": {
   "display_name": "Python 3",
   "language": "python",
   "name": "python3"
  },
  "language_info": {
   "codemirror_mode": {
    "name": "ipython",
    "version": 3
   },
   "file_extension": ".py",
   "mimetype": "text/x-python",
   "name": "python",
   "nbconvert_exporter": "python",
   "pygments_lexer": "ipython3",
   "version": "3.6.9"
  }
 },
 "nbformat": 4,
 "nbformat_minor": 2
}
