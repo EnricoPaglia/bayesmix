{
 "cells": [
  {
   "cell_type": "markdown",
   "metadata": {},
   "source": [
    "# Comparison with package ```BNPmix```"
   ]
  },
  {
   "cell_type": "code",
   "execution_count": null,
   "metadata": {},
   "outputs": [],
   "source": [
    "import subprocess\n",
    "import numpy as np\n",
    "import pandas as pd\n",
    "import matplotlib.pyplot as plt\n",
    "from mpl_toolkits.mplot3d import Axes3D\n",
    "from google.protobuf.internal.decoder import _DecodeVarint32\n",
    "import sys\n",
    "sys.path.insert(0, '..')\n",
    "from proto.py.algorithm_state_pb2 import AlgorithmState\n",
    "import arviz as az\n",
    "\n",
    "# Define paths\n",
    "CSVIN =  '../resources/csv/in/thesis'\n",
    "CSVOUT = '../resources/csv/out/thesis'\n",
    "RECORDIO = '../resources/recordio'\n",
    "# Utility to read file collector, courtesy of\n",
    "# github.com/mberaha/utils/blob/master/proto_utils/py/recordio.py\n",
    "def readManyFromFile(filename, msgType):\n",
    "    out = []\n",
    "    with open(filename, \"rb\") as fp:\n",
    "        buf = fp.read()\n",
    "    n = 0\n",
    "    while n < len(buf):\n",
    "        msg_len, new_pos = _DecodeVarint32(buf, n)\n",
    "        n = new_pos\n",
    "        msg_buf = buf[n:n+msg_len]\n",
    "        try:\n",
    "            msg = msgType()\n",
    "            msg.ParseFromString(msg_buf)\n",
    "            out.append(msg)\n",
    "            n += msg_len\n",
    "        except Exception as e:\n",
    "            break\n",
    "    return out"
   ]
  },
  {
   "cell_type": "markdown",
   "metadata": {},
   "source": [
    "## ```galaxy``` dataset"
   ]
  },
  {
   "cell_type": "code",
   "execution_count": null,
   "metadata": {},
   "outputs": [],
   "source": [
    "# Read data and grid\n",
    "galaxy_data = np.genfromtxt(f\"{CSVIN}/galaxy.csv\")\n",
    "galaxy_grid = np.genfromtxt(f\"{CSVIN}/galaxy_grid.csv\")"
   ]
  },
  {
   "cell_type": "code",
   "execution_count": null,
   "metadata": {},
   "outputs": [],
   "source": [
    "# Read densities\n",
    "mix = \"PY\"\n",
    "algos1 = 'Neal2 Neal3 Neal8'.split()\n",
    "galaxy_dens_1 = dict()\n",
    "for algo in algos1:\n",
    "    fdens = f\"{CSVOUT}/galaxy_dens_{algo}_{mix}.csv\"\n",
    "    galaxy_dens_1[algo] = np.genfromtxt(fdens, delimiter=',')\n",
    "\n",
    "galaxy_dens_2 = dict()\n",
    "algos2 = 'mar ics'.split()\n",
    "for algo in algos2:\n",
    "    fdens = f\"{CSVOUT}/galaxy_dens_bnpmix_{algo}.csv\"\n",
    "    galaxy_dens_2[algo] = np.genfromtxt(fdens, delimiter=',')"
   ]
  },
  {
   "cell_type": "code",
   "execution_count": null,
   "metadata": {},
   "outputs": [],
   "source": [
    "# Plot densities\n",
    "fig = plt.figure(figsize=(10,6))\n",
    "plt.hist(galaxy_data, density=True, color='lightgray')\n",
    "# Means use 1-in-2 thinning\n",
    "for algo in algos1:\n",
    "    dens = np.exp(np.mean(galaxy_dens_1[algo][0::2], axis=0))\n",
    "    plt.plot(galaxy_grid, dens)\n",
    "for algo in algos2:\n",
    "    dens = np.mean(galaxy_dens_2[algo][0::2], axis=0)\n",
    "    plt.plot(galaxy_grid, dens, linestyle='--')\n",
    "\n",
    "plt.title(\"Pitman-Yor density estimation with bayesmix (solid) and bnpmix (dashed)\")\n",
    "plt.legend(algos1 + algos2)"
   ]
  },
  {
   "cell_type": "code",
   "execution_count": null,
   "metadata": {},
   "outputs": [],
   "source": []
  }
 ],
 "metadata": {
  "kernelspec": {
   "display_name": "Python 3",
   "language": "python",
   "name": "python3"
  },
  "language_info": {
   "codemirror_mode": {
    "name": "ipython",
    "version": 3
   },
   "file_extension": ".py",
   "mimetype": "text/x-python",
   "name": "python",
   "nbconvert_exporter": "python",
   "pygments_lexer": "ipython3",
   "version": "3.6.9"
  }
 },
 "nbformat": 4,
 "nbformat_minor": 2
}
