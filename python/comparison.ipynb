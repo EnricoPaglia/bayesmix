{
 "cells": [
  {
   "cell_type": "markdown",
   "metadata": {},
   "source": [
    "# Comparing the three algorithms by Neal"
   ]
  },
  {
   "cell_type": "code",
   "execution_count": null,
   "metadata": {},
   "outputs": [],
   "source": [
    "import numpy as np\n",
    "import scipy.stats as stats\n",
    "import subprocess\n",
    "import matplotlib.pyplot as plt\n",
    "# import pip\n",
    "# pip.main([\"install\", packagename])"
   ]
  },
  {
   "cell_type": "code",
   "execution_count": null,
   "metadata": {},
   "outputs": [],
   "source": [
    "# Utility to save files with Unix-like newlines\n",
    "def save_np(filename, npobj):\n",
    "    with open(filename, 'wb') as f:\n",
    "        np.savetxt(f, npobj, fmt='%1.5f')"
   ]
  },
  {
   "cell_type": "code",
   "execution_count": null,
   "metadata": {},
   "outputs": [],
   "source": [
    "# Generate data\n",
    "rng = 20201124\n",
    "np.random.seed(rng)\n",
    "n = 200\n",
    "norm1 = np.random.normal(loc=-4.0, scale=1.0, size=int(n/2))\n",
    "norm2 = np.random.normal(loc=+4.0, scale=1.0, size=int(n/2))\n",
    "data_uni = np.concatenate((norm1, norm2))\n",
    "# Generate grid\n",
    "grid_uni = np.arange(-10, +10, 0.1)"
   ]
  },
  {
   "cell_type": "code",
   "execution_count": null,
   "metadata": {},
   "outputs": [],
   "source": [
    "# Save to file\n",
    "save_np(\"../resources/csv/in/data_uni.csv\", data_uni)\n",
    "save_np(\"../resources/csv/in/grid_uni.csv\", grid_uni)"
   ]
  },
  {
   "cell_type": "code",
   "execution_count": null,
   "metadata": {},
   "outputs": [],
   "source": [
    "# True density of data\n",
    "true_pdf = 0.5 * stats.norm.pdf(grid_uni, -4.0, 1.0) + \\\n",
    "           0.5 * stats.norm.pdf(grid_uni, +4.0, 1.0)"
   ]
  },
  {
   "cell_type": "code",
   "execution_count": null,
   "metadata": {},
   "outputs": [],
   "source": [
    "# Define list of algorithms\n",
    "algos = [\"Neal2\", \"Neal3\", \"Neal8\"]"
   ]
  },
  {
   "cell_type": "code",
   "execution_count": null,
   "metadata": {},
   "outputs": [],
   "source": [
    "# Run the executable\n",
    "for algo in algos:\n",
    "    cmd = [\"../build/run\",\n",
    "        algo, str(rng), \"0\", \"1000\", \"100\",\n",
    "        \"NNIG\", \"../resources/asciipb/nnig_ngg_prior.asciipb\",\n",
    "        \"DP\",   \"../resources/asciipb/dp_gamma_prior.asciipb\",\n",
    "        f\"../{algo}.recordio\",\n",
    "        \"../resources/csv/in/data_uni.csv\",\n",
    "        \"../resources/csv/in/grid_uni.csv\",\n",
    "        f\"../resources/csv/out/uni_{algo}_dens.csv\",\n",
    "        f\"../resources/csv/out/uni_{algo}_mass.csv\",\n",
    "        f\"../resources/csv/out/uni_{algo}_nclu.csv\",\n",
    "        f\"../resources/csv/out/uni_{algo}_clus.csv\"\n",
    "    ]\n",
    "    subprocess.run(cmd, capture_output=True)"
   ]
  },
  {
   "cell_type": "code",
   "execution_count": null,
   "metadata": {},
   "outputs": [],
   "source": [
    "# Densities\n",
    "plt.figure(figsize=(16, 8))\n",
    "for algo in algos:\n",
    "    matr = np.genfromtxt(f\"../resources/csv/out/uni_{algo}_dens.csv\", delimiter=',')\n",
    "    plt.plot(grid_uni, np.exp(np.mean(matr, axis=0)))\n",
    "plt.plot(grid_uni, true_pdf, color=\"red\", linestyle=\"--\")\n",
    "plt.legend(algos + [\"true\"])\n",
    "plt.title(\"Univariate densities\")"
   ]
  },
  {
   "cell_type": "code",
   "execution_count": null,
   "metadata": {},
   "outputs": [],
   "source": []
  }
 ],
 "metadata": {
  "kernelspec": {
   "display_name": "Python 3",
   "language": "python",
   "name": "python3"
  },
  "language_info": {
   "codemirror_mode": {
    "name": "ipython",
    "version": 3
   },
   "file_extension": ".py",
   "mimetype": "text/x-python",
   "name": "python",
   "nbconvert_exporter": "python",
   "pygments_lexer": "ipython3",
   "version": "3.8.6"
  }
 },
 "nbformat": 4,
 "nbformat_minor": 4
}
