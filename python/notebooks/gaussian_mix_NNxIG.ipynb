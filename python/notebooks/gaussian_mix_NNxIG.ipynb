{
 "cells": [
  {
   "cell_type": "code",
   "execution_count": null,
   "id": "49d3291e",
   "metadata": {},
   "outputs": [],
   "source": [
    "import os\n",
    "os.environ[\"BAYESMIX_EXE\"] = \"/home/m_gianella/Documents/GitHub/bayesmix/build/run_mcmc\"\n",
    "\n",
    "import numpy as np\n",
    "import matplotlib.pyplot as plt\n",
    "import seaborn as sns\n",
    "\n",
    "from bayesmixpy import run_mcmc\n",
    "from tensorflow_probability.substrates import numpy as tfp\n",
    "tfd = tfp.distributions"
   ]
  },
  {
   "cell_type": "code",
   "execution_count": null,
   "id": "64a83071",
   "metadata": {},
   "outputs": [],
   "source": [
    "np.random.seed(123)\n",
    "\n",
    "# Set true parameters\n",
    "N = 500\n",
    "Ncomp = 3\n",
    "means = [-5.0, 0.0, 5.0]\n",
    "sds = [0.5, 2.0, 0.25]\n",
    "weights = np.ones(Ncomp)/Ncomp\n",
    "\n",
    "cluster_allocs = tfd.Categorical(probs=weights).sample(N)\n",
    "data = np.stack([tfd.Normal(means[cluster_allocs[i]], sds[cluster_allocs[i]]).sample() for i in range(N)])"
   ]
  },
  {
   "cell_type": "code",
   "execution_count": null,
   "id": "13df394d",
   "metadata": {},
   "outputs": [],
   "source": [
    "# Setup parameters for bayesmixpy\n",
    "hier_params = \\\n",
    "\"\"\"\n",
    "fixed_values {\n",
    "  mean: 0.0\n",
    "  var: 10.0\n",
    "  shape: 2.0\n",
    "  scale: 2.0\n",
    "}\n",
    "\"\"\"\n",
    "\n",
    "mix_params = \\\n",
    "\"\"\"\n",
    "dp_prior {\n",
    "  totalmass: 1\n",
    "}\n",
    "num_components: 3\n",
    "\"\"\"\n",
    "\n",
    "algo_params = \\\n",
    "\"\"\"\n",
    "algo_id: \"BlockedGibbs\"\n",
    "rng_seed: 20201124\n",
    "iterations: 2000\n",
    "burnin: 1000\n",
    "init_num_clusters: 3\n",
    "\"\"\"\n",
    "\n",
    "dens_grid = np.linspace(-7.5,7.5,1000)"
   ]
  },
  {
   "cell_type": "code",
   "execution_count": null,
   "id": "12505b6e",
   "metadata": {},
   "outputs": [],
   "source": [
    "# Fit model using bayesmixpy\n",
    "eval_dens, n_clus, clus_chain, best_clus = run_mcmc(\"NNxIG\",\"TruncSB\", data,\n",
    "                                                    hier_params, mix_params, algo_params,\n",
    "                                                    dens_grid, return_num_clusters=False,\n",
    "                                                    return_clusters=False, return_best_clus=True)"
   ]
  },
  {
   "cell_type": "code",
   "execution_count": null,
   "id": "1eb6c0e9",
   "metadata": {},
   "outputs": [],
   "source": [
    "# Plot mean posterior density\n",
    "plt.plot(dens_grid, np.exp(eval_dens.mean(axis=0)))\n",
    "plt.hist(data, alpha=0.4, density=True)\n",
    "for c in np.unique(best_clus):\n",
    "    data_in_clus = data[best_clus == c]\n",
    "    plt.scatter(data_in_clus, np.zeros_like(data_in_clus) + 0.01)\n",
    "plt.title(\"Posterior estimated density\")\n",
    "plt.show()"
   ]
  }
 ],
 "metadata": {
  "kernelspec": {
   "display_name": "Python 3 (ipykernel)",
   "language": "python",
   "name": "python3"
  },
  "language_info": {
   "codemirror_mode": {
    "name": "ipython",
    "version": 3
   },
   "file_extension": ".py",
   "mimetype": "text/x-python",
   "name": "python",
   "nbconvert_exporter": "python",
   "pygments_lexer": "ipython3",
   "version": "3.8.10"
  }
 },
 "nbformat": 4,
 "nbformat_minor": 5
}
