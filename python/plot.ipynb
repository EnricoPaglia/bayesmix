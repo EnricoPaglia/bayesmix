{
 "cells": [
  {
   "cell_type": "code",
   "execution_count": null,
   "metadata": {},
   "outputs": [],
   "source": [
    "import numpy as np\n",
    "import matplotlib.pyplot as plt\n",
    "import pandas as pd\n",
    "from mpl_toolkits.mplot3d import Axes3D\n",
    "import scipy.stats as stats\n",
    "import subprocess\n",
    "\n",
    "# Utility to save files with Unix-like newlines\n",
    "def save_np(filename, npobj):\n",
    "    with open(filename, 'wb') as f:\n",
    "        np.savetxt(f, npobj, fmt='%1.5f')"
   ]
  },
  {
   "cell_type": "markdown",
   "metadata": {},
   "source": [
    "# Univariate tests"
   ]
  },
  {
   "cell_type": "code",
   "execution_count": null,
   "metadata": {},
   "outputs": [],
   "source": [
    "# Generate data\n",
    "rng = 20201124\n",
    "np.random.seed(rng)\n",
    "n = 200\n",
    "norm1 = np.random.normal(loc=-4.0, scale=1.0, size=int(n/2))\n",
    "norm2 = np.random.normal(loc=+4.0, scale=1.0, size=int(n/2))\n",
    "data_uni = np.concatenate((norm1, norm2))\n",
    "np.savetxt(\"../resources/csv/in/uni_data.csv\", data_uni, fmt='%1.5f')"
   ]
  },
  {
   "cell_type": "code",
   "execution_count": null,
   "metadata": {},
   "outputs": [],
   "source": [
    "# Generate grid\n",
    "uni_grid = np.arange(-10, +10, 0.1)\n",
    "np.savetxt(\"../resources/csv/in/uni_grid.csv\", uni_grid, fmt='%1.5f')"
   ]
  },
  {
   "cell_type": "code",
   "execution_count": null,
   "metadata": {},
   "outputs": [],
   "source": [
    "# True density of data\n",
    "true_pdf = 0.5 * stats.norm.pdf(uni_grid, -4.0, 1.0) + \\\n",
    "           0.5 * stats.norm.pdf(uni_grid, +4.0, 1.0)"
   ]
  },
  {
   "cell_type": "code",
   "execution_count": null,
   "metadata": {},
   "outputs": [],
   "source": [
    "# Iterations to plot the density of\n",
    "iters = [0, 10, 100, 500, 898]"
   ]
  },
  {
   "cell_type": "markdown",
   "metadata": {},
   "source": [
    "## NGG hyperprior"
   ]
  },
  {
   "cell_type": "code",
   "execution_count": null,
   "metadata": {},
   "outputs": [],
   "source": [
    "# Run the executable\n",
    "cmd = (\"../build/run ../algo_marg_settings.asciipb \"\n",
    "  \"NNIG ../resources/asciipb/nnig_ngg_prior.asciipb \"\n",
    "  \"DP   ../resources/asciipb/dp_gamma_prior.asciipb '' \"\n",
    "  \"../resources/csv/in/uni_data.csv ../resources/csv/in/uni_grid.csv \"\n",
    "  \"../resources/csv/out/uni_dens.csv ../resources/csv/out/uni_nclu.csv \"\n",
    "  \"../resources/csv/out/uni_clus.csv\").split()\n",
    "subprocess.run(cmd, capture_output=True)"
   ]
  },
  {
   "cell_type": "code",
   "execution_count": null,
   "metadata": {},
   "outputs": [],
   "source": [
    "fig = plt.figure(figsize=(21,7))\n",
    "\n",
    "# Densities\n",
    "matr = np.genfromtxt(\"../resources/csv/out/uni_dens.csv\", delimiter=',')\n",
    "ax1 = fig.add_subplot(131)\n",
    "for it in iters:\n",
    "    ax1.plot(uni_grid, np.exp(matr[it, :]), linewidth=0.5)\n",
    "ax1.plot(uni_grid, np.exp(np.mean(matr, axis=0)), linewidth=1.0,\n",
    "         linestyle='--', color=\"black\")\n",
    "\n",
    "ax1.plot(uni_grid, true_pdf, linewidth=1.0, color=\"red\")\n",
    "ax1.legend(iters + [\"mean\", \"true\"])\n",
    "ax1.set_title(\"Univariate densities\")\n",
    "\n",
    "# # Total masses\n",
    "# masses = np.genfromtxt(\"../resources/csv/out/un_mass.csv\", delimiter='\\n')\n",
    "# ax2 = fig.add_subplot(132)\n",
    "# ax2.plot(masses)\n",
    "# ax2.set_title(\"Total masses over iterations\")\n",
    "\n",
    "# Number of clusters\n",
    "num_clust = np.genfromtxt(\"../resources/csv/out/uni_nclu.csv\", delimiter='\\n')\n",
    "ax3 = fig.add_subplot(133)\n",
    "ax3.plot(num_clust)\n",
    "ax3.set_title(\"Number of clusters over iterations\")\n",
    "\n",
    "fig.show()"
   ]
  },
  {
   "cell_type": "markdown",
   "metadata": {},
   "source": [
    "## Fixed values hyperprior (TODO)"
   ]
  },
  {
   "cell_type": "code",
   "execution_count": null,
   "metadata": {},
   "outputs": [],
   "source": [
    "# Run the executable\n",
    "cmd = (\"../build/run algo_settings.asciipb\"\n",
    "    \"NNIG\", \"../resources/asciipb/nnig_ngg_prior.asciipb\",\n",
    "    \"DP\", \"../resources/asciipb/dp_gamma_prior.asciipb\",\n",
    "    \"\",\n",
    "    \"../resources/csv/in/data_uni.csv\", \"../resources/csv/in/uni_grid.csv\",\n",
    "    \"../resources/csv/out/uf_dens.csv\", \"../resources/csv/out/uf_mass.csv\",\n",
    "    \"../resources/csv/out/uf_nclu.csv\", \"../resources/csv/out/uf_clus.csv\"\n",
    ").split()\n",
    "subprocess.run(cmd, capture_output=True)"
   ]
  },
  {
   "cell_type": "code",
   "execution_count": null,
   "metadata": {},
   "outputs": [],
   "source": [
    "fig = plt.figure(figsize=(21,7))\n",
    "\n",
    "# Densities\n",
    "matr = np.genfromtxt(\"../resources/csv/out/uf_dens.csv\", delimiter=',')\n",
    "ax1 = fig.add_subplot(131)\n",
    "for it in iters:\n",
    "    ax1.plot(uni_grid, np.exp(matr[it, :]), linewidth=0.5)\n",
    "ax1.plot(uni_grid, np.exp(np.mean(matr, axis=0)), linewidth=1.0,\n",
    "         linestyle='--', color=\"black\")\n",
    "\n",
    "ax1.plot(uni_grid, true_pdf, linewidth=1.0, color=\"red\")\n",
    "ax1.legend(iters + [\"mean\", \"true\"])\n",
    "ax1.set_title(\"Univariate densities\")\n",
    "\n",
    "# Total masses\n",
    "masses = np.genfromtxt(\"../resources/csv/out/uf_mass.csv\", delimiter='\\n')\n",
    "ax2 = fig.add_subplot(132)\n",
    "ax2.plot(masses)\n",
    "ax2.set_title(\"Total masses over iterations\")\n",
    "\n",
    "# Number of clusters\n",
    "num_clust = np.genfromtxt(\"../resources/csv/out/uf_nclu.csv\", delimiter='\\n')\n",
    "ax3 = fig.add_subplot(133)\n",
    "ax3.vlines(np.arange(len(num_clust)), num_clust - 0.3, num_clust + 0.3)\n",
    "ax3.set_title(\"Number of clusters over iterations\")\n",
    "\n",
    "fig.show()"
   ]
  },
  {
   "cell_type": "markdown",
   "metadata": {},
   "source": [
    "# Multivariate tests  (TODO)"
   ]
  },
  {
   "cell_type": "code",
   "execution_count": null,
   "metadata": {},
   "outputs": [],
   "source": [
    "# Generate data\n",
    "rng = 20201124\n",
    "np.random.seed(rng)\n",
    "n = 60\n",
    "multi_data = np.zeros((n,2))\n",
    "n2 = size=int(n/2)\n",
    "multi_data[0:n2,0] = np.random.normal(loc=-3.0, scale=1.0, size=n2)\n",
    "multi_data[0:n2,1] = np.random.normal(loc=-2.0, scale=1.0, size=n2)\n",
    "multi_data[n2:n,0] = np.random.normal(loc=+3.0, scale=1.0, size=n2)\n",
    "multi_data[n2:n,1] = np.random.normal(loc=+2.0, scale=1.0, size=n2)\n",
    "np.savetxt(\"../resources/csv/in/multi_data.csv\", multi_data, fmt='%1.5f')"
   ]
  },
  {
   "cell_type": "code",
   "execution_count": null,
   "metadata": {},
   "outputs": [],
   "source": [
    "# Generate grid\n",
    "xx = np.arange(-7.0, +7.1, 0.5)\n",
    "yy = np.arange(-6.0, +5.1, 0.5)\n",
    "multi_grid = np.array(np.meshgrid(xx, yy)).T.reshape(-1, 2)\n",
    "np.savetxt(\"../resources/csv/in/multi_grid.csv\", multi_grid, fmt='%1.5f')"
   ]
  },
  {
   "cell_type": "markdown",
   "metadata": {},
   "source": [
    "## Fixed values hyperprior"
   ]
  },
  {
   "cell_type": "code",
   "execution_count": null,
   "metadata": {},
   "outputs": [],
   "source": [
    "# Run the executable\n",
    "cmd = [\"../build/run\",\n",
    "    \"N8\", str(rng), \"0\", \"1000\", \"100\",\n",
    "    \"NNW\", \"../resources/asciipb/nnw_fixed_prior.asciipb\",\n",
    "    \"DP\", \"../resources/asciipb/dp_gamma_prior.asciipb\",\n",
    "    \"\",\n",
    "    \"../resources/csv/in/multi_data.csv\", \"../resources/csv/in/multi_grid.csv\",\n",
    "    \"../resources/csv/out/mf_dens.csv\", \"../resources/csv/out/mf_mass.csv\",\n",
    "    \"../resources/csv/out/mf_nclu.csv\", \"../resources/csv/out/mf_clus.csv\"\n",
    "]\n",
    "subprocess.run(cmd, capture_output=True)"
   ]
  },
  {
   "cell_type": "code",
   "execution_count": null,
   "metadata": {},
   "outputs": [],
   "source": [
    "fig = plt.figure(figsize=(21,7))\n",
    "\n",
    "# Density\n",
    "matr = np.genfromtxt(\"../resources/csv/out/multi_dens.csv\", delimiter=',')\n",
    "ax1 = fig.add_subplot(131, projection='3d')\n",
    "ax1.scatter(multi_grid[:,0], multi_grid[:,1], np.exp(np.mean(matr, axis=1)))\n",
    "ax1.set_title(\"Mean multivariate density\")\n",
    "\n",
    "# Total masses\n",
    "# masses = np.genfromtxt(\"../resources/csv/out/mf_mass.csv\", delimiter='\\n')\n",
    "# ax2 = fig.add_subplot(132)\n",
    "# ax2.plot(masses)\n",
    "# ax2.set_title(\"Total masses over iterations\")\n",
    "\n",
    "# Number of clusters\n",
    "num_clust = np.genfromtxt(\"../resources/csv/out/multi_nclu.csv\", delimiter='\\n')\n",
    "ax3 = fig.add_subplot(133)\n",
    "ax3.plot(num_clust)\n",
    "ax3.set_title(\"Number of clusters over iterations\")\n",
    "\n",
    "fig.show()"
   ]
  },
  {
   "cell_type": "markdown",
   "metadata": {},
   "source": [
    "## NGIW hyperprior"
   ]
  },
  {
   "cell_type": "code",
   "execution_count": null,
   "metadata": {},
   "outputs": [],
   "source": [
    "# Run the executable\n",
    "cmd = [\"../build/run\",\n",
    "    \"N8\", str(rng), \"0\", \"1000\", \"100\",\n",
    "    \"NNW\", \"../resources/asciipb/nnw_ngiw_prior.asciipb\",\n",
    "    \"DP\", \"../resources/asciipb/dp_gamma_prior.asciipb\",\n",
    "    \"\",\n",
    "    \"../resources/csv/in/multi_data.csv\", \"../resources/csv/in/multi_grid.csv\",\n",
    "    \"../resources/csv/out/mn_dens.csv\", \"../resources/csv/out/mn_mass.csv\",\n",
    "    \"../resources/csv/out/mn_nclu.csv\", \"../resources/csv/out/mn_clus.csv\"\n",
    "]\n",
    "subprocess.run(cmd, capture_output=True)"
   ]
  },
  {
   "cell_type": "code",
   "execution_count": null,
   "metadata": {},
   "outputs": [],
   "source": [
    "fig = plt.figure(figsize=(21,7))\n",
    "\n",
    "# Density\n",
    "matr = np.genfromtxt(\"../resources/csv/out/multi_dens.csv\", delimiter=',')\n",
    "mean_dens = np.exp(np.mean(matr, axis=0)).reshape(-1, 1)\n",
    "plot_data = pd.DataFrame(np.hstack([multi_grid, mean_dens]), \n",
    "                         columns=[\"x\", \"y\", \"z\"])\n",
    "Z = plot_data.pivot_table(index='x', columns='y', values='z').T.values\n",
    "X_unique = np.sort(plot_data.x.unique())\n",
    "Y_unique = np.sort(plot_data.y.unique())\n",
    "X, Y = np.meshgrid(X_unique, Y_unique)\n",
    "ax1 = fig.add_subplot(131) #, projection='3d')\n",
    "ax1.contour(X, Y, Z)\n",
    "ax1.set_title(\"Mean multivariate density\")\n",
    "\n",
    "# Total masses\n",
    "# masses = np.genfromtxt(\"../resources/csv/out/mn_mass.csv\", delimiter='\\n')\n",
    "# ax2 = fig.add_subplot(132)\n",
    "# ax2.plot(masses)\n",
    "# ax2.set_title(\"Total masses over iterations\")\n",
    "\n",
    "# Number of clusters\n",
    "num_clust = np.genfromtxt(\"../resources/csv/out/multi_clus.csv\", delimiter='\\n')\n",
    "ax3 = fig.add_subplot(133)\n",
    "ax3.vlines(np.arange(len(num_clust)), num_clust - 0.3, num_clust + 0.3)\n",
    "ax3.set_title(\"Number of clusters over iterations\")\n",
    "\n",
    "fig.show()"
   ]
  },
  {
   "cell_type": "code",
   "execution_count": null,
   "metadata": {},
   "outputs": [],
   "source": [
    "clusters = np.loadtxt(\"../resources/csv/out/multi_clus.csv\")\n",
    "nclus = np.array([len(np.unique(x)) for x in clusters])"
   ]
  },
  {
   "cell_type": "code",
   "execution_count": null,
   "metadata": {},
   "outputs": [],
   "source": [
    "num_clust"
   ]
  }
 ],
 "metadata": {
  "kernelspec": {
   "display_name": "Python 3",
   "language": "python",
   "name": "python3"
  },
  "language_info": {
   "codemirror_mode": {
    "name": "ipython",
    "version": 3
   },
   "file_extension": ".py",
   "mimetype": "text/x-python",
   "name": "python",
   "nbconvert_exporter": "python",
   "pygments_lexer": "ipython3",
   "version": "3.8.0"
  }
 },
 "nbformat": 4,
 "nbformat_minor": 4
}
