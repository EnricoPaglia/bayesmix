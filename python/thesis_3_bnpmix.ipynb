{
 "cells": [
  {
   "cell_type": "markdown",
   "metadata": {},
   "source": [
    "# Run estimates in BNPmix"
   ]
  },
  {
   "cell_type": "code",
   "execution_count": null,
   "metadata": {},
   "outputs": [],
   "source": [
    "library('BNPmix')"
   ]
  },
  {
   "cell_type": "code",
   "execution_count": null,
   "metadata": {},
   "outputs": [],
   "source": [
    "galaxy = as.numeric(readLines(\"../resources/csv/in/thesis/galaxy.csv\"))\n",
    "galaxy.grid = as.numeric(readLines(\"../resources/csv/in/thesis/galaxy_grid.csv\"))"
   ]
  },
  {
   "cell_type": "code",
   "execution_count": null,
   "metadata": {},
   "outputs": [],
   "source": [
    "PYprior = list(strength = 1.0, discount = 0.1)\n",
    "mcmc = list(niter = 5000, nburn = 1000, method=\"MAR\")\n",
    "output = list(grid = galaxy.grid, out_type = \"FULL\")\n",
    "set.seed(20201124)\n",
    "fit.mar = PYdensity(y = galaxy, mcmc = mcmc, prior = PYprior, output = output)"
   ]
  },
  {
   "cell_type": "code",
   "execution_count": null,
   "metadata": {},
   "outputs": [],
   "source": [
    "mcmc$method = \"ICS\"\n",
    "set.seed(20201124)\n",
    "fit.ics = PYdensity(y = galaxy, mcmc = mcmc, prior = PYprior, output = output)"
   ]
  },
  {
   "cell_type": "code",
   "execution_count": null,
   "metadata": {},
   "outputs": [],
   "source": [
    "plot(fit.mar, band = FALSE)\n",
    "plot(fit.ics, band = FALSE)"
   ]
  },
  {
   "cell_type": "code",
   "execution_count": null,
   "metadata": {},
   "outputs": [],
   "source": [
    "# Write fto file\n",
    "f.mar = file(\"../resources/csv/out/thesis/galaxy_dens_bnpmix_mar.csv\", \"wb\")\n",
    "write.table(fit.mar['density'], f.mar, row.names = FALSE, col.names = FALSE, sep=',')\n",
    "f.ics = file(\"../resources/csv/out/thesis/galaxy_dens_bnpmix_ics.csv\", \"wb\")\n",
    "write.table(fit.ics['density'], f.ics, row.names = FALSE, col.names = FALSE, sep=',')"
   ]
  },
  {
   "cell_type": "code",
   "execution_count": null,
   "metadata": {},
   "outputs": [],
   "source": []
  }
 ],
 "metadata": {
  "kernelspec": {
   "display_name": "R",
   "language": "R",
   "name": "ir"
  },
  "language_info": {
   "codemirror_mode": "r",
   "file_extension": ".r",
   "mimetype": "text/x-r-source",
   "name": "R",
   "pygments_lexer": "r",
   "version": "4.0.4"
  }
 },
 "nbformat": 4,
 "nbformat_minor": 2
}
