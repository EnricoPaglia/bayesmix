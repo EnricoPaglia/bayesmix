{
 "cells": [
  {
   "cell_type": "markdown",
   "metadata": {},
   "source": [
    "# Run estimates in BNPmix"
   ]
  },
  {
   "cell_type": "code",
   "execution_count": null,
   "metadata": {},
   "outputs": [],
   "source": [
    "library('BNPmix')"
   ]
  },
  {
   "cell_type": "code",
   "execution_count": null,
   "metadata": {},
   "outputs": [],
   "source": [
    "galaxy = as.numeric(readLines(\"../resources/csv/in/thesis/galaxy.csv\"))\n",
    "galaxy.grid = as.numeric(readLines(\"../resources/csv/in/thesis/galaxy_grid.csv\"))"
   ]
  },
  {
   "cell_type": "code",
   "execution_count": null,
   "metadata": {},
   "outputs": [],
   "source": [
    "PYprior = list(strength = 1.0, discount = 0.1)\n",
    "mcmc = list(niter = 5000, nburn = 1000, method=\"MAR\")\n",
    "output = list(grid = galaxy.grid, out_type = \"FULL\")\n",
    "fit = PYdensity(y = galaxy, mcmc = mcmc, prior = PYprior, output = output)"
   ]
  },
  {
   "cell_type": "code",
   "execution_count": null,
   "metadata": {},
   "outputs": [],
   "source": [
    "plot(fit, band = FALSE)"
   ]
  },
  {
   "cell_type": "code",
   "execution_count": null,
   "metadata": {},
   "outputs": [],
   "source": [
    "f = file(\"../resources/csv/out/thesis/galaxy_dens_bnpmix.csv\", \"wb\")\n",
    "write.table(fit['density'], f, row.names = FALSE, col.names = FALSE, sep=',')"
   ]
  },
  {
   "cell_type": "code",
   "execution_count": null,
   "metadata": {},
   "outputs": [],
   "source": []
  }
 ],
 "metadata": {
  "kernelspec": {
   "display_name": "R",
   "language": "R",
   "name": "ir"
  },
  "language_info": {
   "codemirror_mode": "r",
   "file_extension": ".r",
   "mimetype": "text/x-r-source",
   "name": "R",
   "pygments_lexer": "r",
   "version": "4.0.4"
  }
 },
 "nbformat": 4,
 "nbformat_minor": 2
}
