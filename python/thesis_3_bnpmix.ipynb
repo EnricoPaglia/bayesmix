{
 "cells": [
  {
   "cell_type": "markdown",
   "metadata": {},
   "source": [
    "# Run estimates in BNPmix"
   ]
  },
  {
   "cell_type": "code",
   "execution_count": null,
   "metadata": {},
   "outputs": [],
   "source": [
    "library('BNPmix')"
   ]
  },
  {
   "cell_type": "markdown",
   "metadata": {},
   "source": [
    "## ```galaxy``` dataset"
   ]
  },
  {
   "cell_type": "code",
   "execution_count": null,
   "metadata": {},
   "outputs": [],
   "source": [
    "# Read data\n",
    "galaxy = as.numeric(readLines(\"../resources/csv/in/thesis/galaxy.csv\"))\n",
    "galaxy.grid = as.numeric(readLines(\"../resources/csv/in/thesis/galaxy_grid.csv\"))"
   ]
  },
  {
   "cell_type": "code",
   "execution_count": null,
   "metadata": {},
   "outputs": [],
   "source": [
    "# Set prior\n",
    "PYprior = list(strength = 1.0, discount = 0.1, model=\"LS\", m1=25, s21=4,\n",
    "               tau1=0.4, zeta1=0.2, a0=4, a1=4, b1=2)\n",
    "mcmc = list(niter = 5000, nburn = 1000, hyper = TRUE)\n",
    "output = list(grid = galaxy.grid, out_type = \"FULL\")"
   ]
  },
  {
   "cell_type": "code",
   "execution_count": null,
   "metadata": {},
   "outputs": [],
   "source": [
    "# Run marginal sampler\n",
    "mcmc$method = \"MAR\"\n",
    "set.seed(20201124)\n",
    "fit.mar = PYdensity(y = galaxy, mcmc = mcmc, prior = PYprior, output = output)"
   ]
  },
  {
   "cell_type": "code",
   "execution_count": null,
   "metadata": {},
   "outputs": [],
   "source": [
    "# Plot\n",
    "# plot(fit.mar, band = FALSE)"
   ]
  },
  {
   "cell_type": "code",
   "execution_count": null,
   "metadata": {},
   "outputs": [],
   "source": [
    "# Run importance conditional sampler\n",
    "mcmc$method = \"ICS\"\n",
    "set.seed(20201124)\n",
    "fit.ics = PYdensity(y = galaxy, mcmc = mcmc, prior = PYprior, output = output)"
   ]
  },
  {
   "cell_type": "code",
   "execution_count": null,
   "metadata": {},
   "outputs": [],
   "source": [
    "# Save to file\n",
    "f = file(\"../resources/csv/out/thesis/galaxy_dens_bnpmix_mar.csv\", \"wb\")\n",
    "write.table(fit.mar['density'], f, row.names = FALSE, col.names = FALSE, sep=',')\n",
    "f = file(\"../resources/csv/out/thesis/galaxy_dens_bnpmix_ics.csv\", \"wb\")\n",
    "write.table(fit.ics['density'], f, row.names = FALSE, col.names = FALSE, sep=',')"
   ]
  },
  {
   "cell_type": "code",
   "execution_count": null,
   "metadata": {},
   "outputs": [],
   "source": [
    "# Save number of clusters to file\n",
    "nclust = apply(fit.mar$clust, 1, max)\n",
    "f = file(\"../resources/csv/out/thesis/galaxy_nclu_bnpmix_mar.csv\", \"wb\")\n",
    "write.table(nclust, f, row.names = FALSE, col.names = FALSE, sep=',')\n",
    "nclust = apply(fit.ics$clust, 1, max)\n",
    "f = file(\"../resources/csv/out/thesis/galaxy_nclu_bnpmix_ics.csv\", \"wb\")\n",
    "write.table(nclust, f, row.names = FALSE, col.names = FALSE, sep=',')"
   ]
  },
  {
   "cell_type": "markdown",
   "metadata": {},
   "source": [
    "## ```faithful``` dataset"
   ]
  },
  {
   "cell_type": "code",
   "execution_count": null,
   "metadata": {},
   "outputs": [],
   "source": [
    "# Read data\n",
    "faithful = data.matrix(read.csv(\"../resources/csv/in/thesis/faithful.csv\",\n",
    "                                sep=\" \", header = FALSE))\n",
    "faithful.grid = data.matrix(read.csv(\"../resources/csv/in/thesis/faithful_grid.csv\",\n",
    "                                     sep=\" \", header = FALSE))"
   ]
  },
  {
   "cell_type": "code",
   "execution_count": null,
   "metadata": {},
   "outputs": [],
   "source": [
    "# Set prior\n",
    "PYprior = list(strength = 1.0, discount = 0.1, model=\"LS\", m1=c(3,3),\n",
    "               S1 = 0.25*diag(2), tau1=0.4, zeta1=0.2, n0=4, n1=4,\n",
    "               Sigma1=4*diag(2))\n",
    "mcmc = list(niter = 5000, nburn = 1000, hyper = TRUE)\n",
    "output = list(grid = faithful.grid, out_type = \"FULL\")"
   ]
  },
  {
   "cell_type": "code",
   "execution_count": null,
   "metadata": {},
   "outputs": [],
   "source": [
    "# Run marginal sampler\n",
    "mcmc$method = \"MAR\"\n",
    "set.seed(20201124)\n",
    "fit.mar = PYdensity(y = faithful, mcmc = mcmc, prior = PYprior, output = output)"
   ]
  },
  {
   "cell_type": "code",
   "execution_count": null,
   "metadata": {},
   "outputs": [],
   "source": [
    "# Run importance conditional sampler\n",
    "mcmc$method = \"ICS\"\n",
    "set.seed(20201124)\n",
    "fit.ics = PYdensity(y = faithful, mcmc = mcmc, prior = PYprior, output = output)"
   ]
  },
  {
   "cell_type": "code",
   "execution_count": null,
   "metadata": {},
   "outputs": [],
   "source": [
    "# Save to file\n",
    "f = file(\"../resources/csv/out/thesis/faithful_dens_bnpmix_mar.csv\", \"wb\")\n",
    "write.table(fit.mar['density'], f, row.names = FALSE, col.names = FALSE, sep=',')\n",
    "f = file(\"../resources/csv/out/thesis/faithful_dens_bnpmix_ics.csv\", \"wb\")\n",
    "write.table(fit.ics['density'], f, row.names = FALSE, col.names = FALSE, sep=',')"
   ]
  },
  {
   "cell_type": "code",
   "execution_count": null,
   "metadata": {},
   "outputs": [],
   "source": [
    "# Save number of clusters to file\n",
    "nclust = apply(fit.mar$clust, 1, max)\n",
    "f = file(\"../resources/csv/out/thesis/faithful_nclu_bnpmix_mar.csv\", \"wb\")\n",
    "write.table(nclust, f, row.names = FALSE, col.names = FALSE, sep=',')\n",
    "nclust = apply(fit.ics$clust, 1, max)\n",
    "f = file(\"../resources/csv/out/thesis/faithful_nclu_bnpmix_ics.csv\", \"wb\")\n",
    "write.table(nclust, f, row.names = FALSE, col.names = FALSE, sep=',')"
   ]
  },
  {
   "cell_type": "code",
   "execution_count": null,
   "metadata": {},
   "outputs": [],
   "source": []
  }
 ],
 "metadata": {
  "kernelspec": {
   "display_name": "R",
   "language": "R",
   "name": "ir"
  },
  "language_info": {
   "codemirror_mode": "r",
   "file_extension": ".r",
   "mimetype": "text/x-r-source",
   "name": "R",
   "pygments_lexer": "r",
   "version": "4.0.4"
  }
 },
 "nbformat": 4,
 "nbformat_minor": 2
}
