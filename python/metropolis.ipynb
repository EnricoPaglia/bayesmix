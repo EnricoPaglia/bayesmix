{
 "cells": [
  {
   "cell_type": "markdown",
   "metadata": {},
   "source": [
    "# Metropolis-Hastings variations"
   ]
  },
  {
   "cell_type": "code",
   "execution_count": null,
   "metadata": {},
   "outputs": [],
   "source": [
    "import numpy as np\n",
    "import scipy.stats as stats\n",
    "import subprocess"
   ]
  },
  {
   "cell_type": "code",
   "execution_count": null,
   "metadata": {},
   "outputs": [],
   "source": [
    "# Utility to save files with Unix-like newlines\n",
    "def save_np(filename, npobj):\n",
    "    with open(filename, 'wb') as f:\n",
    "        np.savetxt(f, npobj, fmt='%1.5f')"
   ]
  },
  {
   "cell_type": "code",
   "execution_count": null,
   "metadata": {},
   "outputs": [],
   "source": [
    "# Inverse of logit function\n",
    "def sigmoid(x):\n",
    "    return 1.0 / (1.0 + np.exp(-x))"
   ]
  },
  {
   "cell_type": "code",
   "execution_count": null,
   "metadata": {},
   "outputs": [],
   "source": [
    "# Generate data\n",
    "rng = 20201124\n",
    "np.random.seed(rng)\n",
    "n = 200\n",
    "dim = 3\n",
    "alpha = np.array((-5.0, 5.0, 0.0))\n",
    "xx = np.random.normal(loc=0.0, scale=1.0, size=(n, dim))\n",
    "pp = [sigmoid(np.dot(alpha, x)) for x in xx]\n",
    "yy = np.random.binomial(size=n, n=1, p=pp)"
   ]
  },
  {
   "cell_type": "code",
   "execution_count": null,
   "metadata": {},
   "outputs": [],
   "source": [
    "# Save to file\n",
    "save_np(\"../resources/test/mh_covs.csv\", xx)\n",
    "save_np(\"../resources/test/mh_data.csv\", yy)"
   ]
  },
  {
   "cell_type": "code",
   "execution_count": null,
   "metadata": {},
   "outputs": [],
   "source": [
    "# Run the executable\n",
    "cmd1 = (\"g++ \"\n",
    "    \"-I{..,../lib/math/lib/eigen_3.3.9,../lib/math,../lib/math/lib/boost_1.72.0} \"\n",
    "    \"../src/algorithms/metropolis.cc ../src/utils/io_utils.cc ../mh_main.cc \"\n",
    "    \"-o ../b.local.bin\").split()\n",
    "cmd2 = \"../b.local.bin | tee ../log.local.txt\".split()\n",
    "subprocess.run(cmd1)\n",
    "subprocess.run(cmd2, capture_output=True)"
   ]
  },
  {
   "cell_type": "code",
   "execution_count": null,
   "metadata": {},
   "outputs": [],
   "source": []
  }
 ],
 "metadata": {
  "kernelspec": {
   "display_name": "Python 3",
   "language": "python",
   "name": "python3"
  },
  "language_info": {
   "codemirror_mode": {
    "name": "ipython",
    "version": 3
   },
   "file_extension": ".py",
   "mimetype": "text/x-python",
   "name": "python",
   "nbconvert_exporter": "python",
   "pygments_lexer": "ipython3",
   "version": "3.8.6"
  }
 },
 "nbformat": 4,
 "nbformat_minor": 4
}
