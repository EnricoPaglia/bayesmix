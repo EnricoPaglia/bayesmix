{
 "cells": [
  {
   "cell_type": "markdown",
   "metadata": {},
   "source": [
    "# Performing tests"
   ]
  },
  {
   "cell_type": "code",
   "execution_count": null,
   "metadata": {},
   "outputs": [],
   "source": [
    "import subprocess\n",
    "import numpy as np\n",
    "import pandas as pd\n",
    "import matplotlib.pyplot as plt\n",
    "from mpl_toolkits.mplot3d import Axes3D\n",
    "from google.protobuf.internal.decoder import _DecodeVarint32\n",
    "import sys\n",
    "sys.path.insert(0, '..')\n",
    "from proto.py.algorithm_state_pb2 import AlgorithmState\n",
    "import arviz as az\n",
    "\n",
    "# Define paths\n",
    "CSVIN =  '../resources/csv/in/thesis'\n",
    "CSVOUT = '../resources/csv/out/thesis'\n",
    "RECORDIO = '../resources/recordio'\n",
    "# Utility to read file collector, courtesy of\n",
    "# github.com/mberaha/utils/blob/master/proto_utils/py/recordio.py\n",
    "def readManyFromFile(filename, msgType):\n",
    "    out = []\n",
    "    with open(filename, \"rb\") as fp:\n",
    "        buf = fp.read()\n",
    "    n = 0\n",
    "    while n < len(buf):\n",
    "        msg_len, new_pos = _DecodeVarint32(buf, n)\n",
    "        n = new_pos\n",
    "        msg_buf = buf[n:n+msg_len]\n",
    "        try:\n",
    "            msg = msgType()\n",
    "            msg.ParseFromString(msg_buf)\n",
    "            out.append(msg)\n",
    "            n += msg_len\n",
    "        except Exception as e:\n",
    "            break\n",
    "    return out"
   ]
  },
  {
   "cell_type": "markdown",
   "metadata": {},
   "source": [
    "## ```galaxy``` dataset"
   ]
  },
  {
   "cell_type": "code",
   "execution_count": null,
   "metadata": {},
   "outputs": [],
   "source": [
    "# Run the test\n",
    "cmd = '../bash/thesis.sh galaxy'.split()\n",
    "subprocess.run(cmd, capture_output=True)"
   ]
  },
  {
   "cell_type": "code",
   "execution_count": null,
   "metadata": {},
   "outputs": [],
   "source": [
    "# Read densities and clusterings\n",
    "algos = 'Neal2 Neal3 Neal8'.split()\n",
    "mixs = 'DP PY'.split()\n",
    "galaxy_dens = dict()\n",
    "galaxy_clus = dict()\n",
    "for mix in mixs:\n",
    "    galaxy_dens[mix] = dict()\n",
    "    galaxy_clus[mix] = dict()\n",
    "    for algo in algos:\n",
    "        fdens = f\"{CSVOUT}/galaxy_dens_{algo}_{mix}.csv\"\n",
    "        fclus = f\"{CSVOUT}/galaxy_clus_{algo}_{mix}.csv\"\n",
    "        galaxy_dens[mix][algo] = np.genfromtxt(fdens, delimiter=',')\n",
    "        galaxy_clus[mix][algo] = np.genfromtxt(fclus, delimiter=',')"
   ]
  },
  {
   "cell_type": "code",
   "execution_count": null,
   "metadata": {},
   "outputs": [],
   "source": [
    "# Read data and grid\n",
    "galaxy_data = np.genfromtxt(f\"{CSVIN}/galaxy.csv\")\n",
    "galaxy_grid = np.genfromtxt(f\"{CSVIN}/galaxy_grid.csv\")"
   ]
  },
  {
   "cell_type": "code",
   "execution_count": null,
   "metadata": {},
   "outputs": [],
   "source": [
    "# Plot densities\n",
    "fig, axes = plt.subplots(1, 2, figsize=(18,6))\n",
    "for m, mix in enumerate(mixs):\n",
    "    for algo in algos:\n",
    "        # Mean uses 1-in-2 thinning\n",
    "        dens = np.exp(np.mean(galaxy_dens[mix][algo][0::2], axis=0))\n",
    "        axes[m].plot(galaxy_grid, dens)\n",
    "    axes[m].hist(galaxy_data, density=True, color='lightgray')\n",
    "    axes[m].set_title(f\"galaxy densities with {mix}\")\n",
    "    axes[m].legend(algos)"
   ]
  },
  {
   "cell_type": "code",
   "execution_count": null,
   "metadata": {},
   "outputs": [],
   "source": [
    "# Plot clusterings\n",
    "fig, axes = plt.subplots(1, 2, figsize=(18,4))\n",
    "for m, mix in enumerate(mixs):\n",
    "    for a, algo in enumerate(algos):\n",
    "        clus = galaxy_clus[mix][algo]\n",
    "        axes[m].scatter(galaxy_data, a*np.ones_like(clus),\n",
    "                        c=clus, cmap='hsv')\n",
    "    axes[m].set_ylim(-1, 3)\n",
    "    axes[m].set_yticks(list(range(3)))\n",
    "    axes[m].set_yticklabels(algos)\n",
    "    axes[m].set_title(f\"galaxy clusterings with {mix}\")"
   ]
  },
  {
   "cell_type": "code",
   "execution_count": null,
   "metadata": {},
   "outputs": [],
   "source": [
    "# Compute Effective Sample Sizes\n",
    "ESS = dict()\n",
    "for mix in mixs:\n",
    "    ESS[mix] = dict()\n",
    "    for algo in algos:\n",
    "        # Read chain\n",
    "        chain = readManyFromFile(f\"{RECORDIO}/galaxy_{algo}_{mix}.recordio\",\n",
    "                                 AlgorithmState)\n",
    "        # Record number of clusters at each iteration\n",
    "        n_clust = np.array([len(ch.cluster_states) for ch in chain])\n",
    "        # Compute ESS\n",
    "        ESS[mix][algo] = az.ess(n_clust)\n",
    "# Show ESS\n",
    "ESS"
   ]
  },
  {
   "cell_type": "markdown",
   "metadata": {},
   "source": [
    "## ```faithful``` dataset"
   ]
  },
  {
   "cell_type": "code",
   "execution_count": null,
   "metadata": {},
   "outputs": [],
   "source": [
    "# Run the test\n",
    "cmd = '../bash/thesis.sh faithful'.split()\n",
    "subprocess.run(cmd, capture_output=True)"
   ]
  },
  {
   "cell_type": "code",
   "execution_count": null,
   "metadata": {},
   "outputs": [],
   "source": [
    "# Read densities and clusterings\n",
    "algos = 'Neal2 Neal3 Neal8'.split()\n",
    "mixs = 'DP PY'.split()\n",
    "faithful_dens = dict()\n",
    "faithful_clus = dict()\n",
    "for mix in mixs:\n",
    "    faithful_dens[mix] = dict()\n",
    "    faithful_clus[mix] = dict()\n",
    "    for algo in algos:\n",
    "        fdens = f\"{CSVOUT}/faithful_dens_{algo}_{mix}.csv\"\n",
    "        fclus = f\"{CSVOUT}/faithful_clus_{algo}_{mix}.csv\"\n",
    "        faithful_dens[mix][algo] = np.genfromtxt(fdens, delimiter=',')\n",
    "        faithful_clus[mix][algo] = np.genfromtxt(fclus, delimiter=',')"
   ]
  },
  {
   "cell_type": "code",
   "execution_count": null,
   "metadata": {},
   "outputs": [],
   "source": [
    "# Read data and grid\n",
    "faithful_data = np.genfromtxt(f\"{CSVIN}/faithful.csv\")\n",
    "faithful_grid = np.genfromtxt(f\"{CSVIN}/faithful_grid.csv\")"
   ]
  },
  {
   "cell_type": "code",
   "execution_count": null,
   "metadata": {},
   "outputs": [],
   "source": [
    "# Plot densities (3D)\n",
    "fig = plt.figure(figsize=(15,20))\n",
    "idx = 0\n",
    "for algo in algos:\n",
    "    for mix in mixs:\n",
    "        idx += 1\n",
    "        # Mean uses 1-in-2 thinning\n",
    "        dens = np.exp(np.mean(faithful_dens[mix][algo][0::2], axis=0))\n",
    "        ax = fig.add_subplot(3, 2, idx, projection='3d')\n",
    "        ax.scatter(faithful_grid[:,0], faithful_grid[:,1], dens, marker='.')\n",
    "        ax.set_title(f\"faithful densities with {mix} and {algo}\")"
   ]
  },
  {
   "cell_type": "code",
   "execution_count": null,
   "metadata": {},
   "outputs": [],
   "source": [
    "# Plot densities (contours)\n",
    "fig = plt.figure(figsize=(15,20))\n",
    "idx = 0\n",
    "for algo in algos:\n",
    "    for mix in mixs:\n",
    "        idx += 1\n",
    "        # Mean uses 1-in-2 thinning\n",
    "        dens = np.exp(np.mean(faithful_dens[mix][algo][0::2], axis=0)).reshape(-1,1)\n",
    "        plot_data = pd.DataFrame(np.hstack([faithful_grid, dens]), \n",
    "                                 columns=[\"x\", \"y\", \"z\"])\n",
    "        Z = plot_data.pivot_table(index='x', columns='y', values='z').T.values\n",
    "        X_unique = np.sort(plot_data.x.unique())\n",
    "        Y_unique = np.sort(plot_data.y.unique())\n",
    "        X, Y = np.meshgrid(X_unique, Y_unique)\n",
    "        ax = fig.add_subplot(3, 2, idx)\n",
    "        if Z.any():\n",
    "            ax.contour(X, Y, Z)\n",
    "        ax.set_title(f\"faithful densities with {mix} and {algo}\")"
   ]
  },
  {
   "cell_type": "code",
   "execution_count": null,
   "metadata": {},
   "outputs": [],
   "source": [
    "# Plot clusterings\n",
    "fig = plt.figure(figsize=(14,14))\n",
    "idx = 0\n",
    "for algo in algos:\n",
    "    for mix in mixs:\n",
    "        idx += 1\n",
    "        ax = fig.add_subplot(3, 2, idx)\n",
    "        clus = faithful_clus[mix][algo]\n",
    "        ax.scatter(faithful_data[:,0], faithful_data[:,1], c=clus)\n",
    "        ax.set_title(f\"faithful clusterings with {mix} and {algo}\")"
   ]
  },
  {
   "cell_type": "markdown",
   "metadata": {},
   "source": [
    "## ```dde``` dataset"
   ]
  },
  {
   "cell_type": "code",
   "execution_count": null,
   "metadata": {},
   "outputs": [],
   "source": [
    "# Run the test\n",
    "cmd = '../bash/thesis.sh dde'.split()\n",
    "subprocess.run(cmd, capture_output=True)"
   ]
  },
  {
   "cell_type": "code",
   "execution_count": null,
   "metadata": {},
   "outputs": [],
   "source": [
    "# Read densities and clusterings\n",
    "algos = 'BlockedGibbs'.split()\n",
    "mixs = 'LogSB TruncSB'.split()\n",
    "dde_dens = dict()\n",
    "dde_clus = dict()\n",
    "for mix in mixs:\n",
    "    dde_dens[mix] = dict()\n",
    "    dde_clus[mix] = dict()\n",
    "    for algo in algos:\n",
    "        fdens = f\"{CSVOUT}/dde_dens_{algo}_{mix}.csv\"\n",
    "        fclus = f\"{CSVOUT}/dde_clus_{algo}_{mix}.csv\"\n",
    "        dde_dens[mix][algo] = np.genfromtxt(fdens, delimiter=',')\n",
    "        dde_clus[mix][algo] = np.genfromtxt(fclus, delimiter=',')"
   ]
  },
  {
   "cell_type": "code",
   "execution_count": null,
   "metadata": {},
   "outputs": [],
   "source": [
    "# Read data and grid\n",
    "dde_data = np.genfromtxt(f\"{CSVIN}/dde.csv\")\n",
    "dde_grid = np.genfromtxt(f\"{CSVIN}/dde_grid.csv\")\n",
    "dde_covs_grid = np.genfromtxt(f\"{CSVIN}/dde_covs_grid.csv\")"
   ]
  },
  {
   "cell_type": "code",
   "execution_count": null,
   "metadata": {},
   "outputs": [],
   "source": [
    "# Plot densities\n",
    "fig, ax = plt.subplots(figsize=(10,5))\n",
    "for mix in mixs:\n",
    "    # Mean uses 1-in-2 thinning\n",
    "    dens = np.exp(np.mean(dde_dens[mix]['BlockedGibbs'][0::2], axis=0))\n",
    "    ax.plot(dde_grid, dens)\n",
    "    ax.hist(dde_data, density=True, color='lightgray')\n",
    "    ax.set_title(f\"dde densities with {'BlockedGibbs'} for x={dde_covs_grid}\")\n",
    "    ax.legend(mixs)"
   ]
  },
  {
   "cell_type": "code",
   "execution_count": null,
   "metadata": {},
   "outputs": [],
   "source": []
  }
 ],
 "metadata": {
  "kernelspec": {
   "display_name": "Python 3",
   "language": "python",
   "name": "python3"
  },
  "language_info": {
   "codemirror_mode": {
    "name": "ipython",
    "version": 3
   },
   "file_extension": ".py",
   "mimetype": "text/x-python",
   "name": "python",
   "nbconvert_exporter": "python",
   "pygments_lexer": "ipython3",
   "version": "3.8.6"
  }
 },
 "nbformat": 4,
 "nbformat_minor": 4
}
