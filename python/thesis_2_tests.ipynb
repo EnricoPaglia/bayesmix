{
 "cells": [
  {
   "cell_type": "markdown",
   "metadata": {},
   "source": [
    "# Performing tests"
   ]
  },
  {
   "cell_type": "code",
   "execution_count": null,
   "metadata": {},
   "outputs": [],
   "source": [
    "import subprocess\n",
    "import numpy as np\n",
    "import matplotlib.pyplot as plt\n",
    "from mpl_toolkits.mplot3d import Axes3D\n",
    "\n",
    "# Define paths\n",
    "CSVIN =  '../resources/csv/in/thesis'\n",
    "CSVOUT = '../resources/csv/out/thesis'"
   ]
  },
  {
   "cell_type": "markdown",
   "metadata": {},
   "source": [
    "## ```galaxy``` dataset"
   ]
  },
  {
   "cell_type": "code",
   "execution_count": null,
   "metadata": {},
   "outputs": [],
   "source": [
    "# Run the test\n",
    "cmd = '../bash/thesis.sh galaxy'.split()\n",
    "subprocess.run(cmd, capture_output=True)"
   ]
  },
  {
   "cell_type": "code",
   "execution_count": null,
   "metadata": {},
   "outputs": [],
   "source": [
    "# Read densities and clusterings\n",
    "algos = 'Neal2 Neal3 Neal8'.split()\n",
    "mixs = 'DP PY'.split()\n",
    "galaxy_dens = dict()\n",
    "galaxy_clus = dict()\n",
    "for mix in mixs:\n",
    "    galaxy_dens[mix] = dict()\n",
    "    galaxy_clus[mix] = dict()\n",
    "    for algo in algos:\n",
    "        fdens = f\"{CSVOUT}/galaxy_dens_{algo}_{mix}.csv\"\n",
    "        fclus = f\"{CSVOUT}/galaxy_clus_{algo}_{mix}.csv\"\n",
    "        galaxy_dens[mix][algo] = np.genfromtxt(fdens, delimiter=',')\n",
    "        galaxy_clus[mix][algo] = np.genfromtxt(fclus, delimiter=',')"
   ]
  },
  {
   "cell_type": "code",
   "execution_count": null,
   "metadata": {},
   "outputs": [],
   "source": [
    "# Read data and grid\n",
    "galaxy_data = np.genfromtxt(f\"{CSVIN}/galaxy.csv\")\n",
    "galaxy_grid = np.genfromtxt(f\"{CSVIN}/galaxy_grid.csv\")"
   ]
  },
  {
   "cell_type": "code",
   "execution_count": null,
   "metadata": {},
   "outputs": [],
   "source": [
    "# Plot densities\n",
    "fig, axes = plt.subplots(1, 2, figsize=(18,6))\n",
    "for m, mix in enumerate(mixs):\n",
    "    for algo in algos:\n",
    "        dens = np.exp(np.mean(galaxy_dens[mix][algo], axis=0))\n",
    "        axes[m].plot(galaxy_grid, dens)\n",
    "    axes[m].hist(galaxy_data, density=True, color='lightgray')\n",
    "    axes[m].set_title(f\"galaxy densities with {mix}\")\n",
    "    axes[m].legend(algos)"
   ]
  },
  {
   "cell_type": "code",
   "execution_count": null,
   "metadata": {},
   "outputs": [],
   "source": [
    "# Plot clusterings\n",
    "fig, axes = plt.subplots(1, 2, figsize=(18,4))\n",
    "for m, mix in enumerate(mixs):\n",
    "    for a, algo in enumerate(algos):\n",
    "        clus = galaxy_clus[mix][algo]\n",
    "        axes[m].scatter(galaxy_data, a*np.ones_like(clus), c=clus)\n",
    "    axes[m].set_ylim(-1, 3)\n",
    "    axes[m].set_yticks(list(range(3)))\n",
    "    axes[m].set_yticklabels(algos)\n",
    "    axes[m].set_title(f\"galaxy clusterings with {mix}\")"
   ]
  },
  {
   "cell_type": "markdown",
   "metadata": {},
   "source": [
    "## ```faithful``` dataset"
   ]
  },
  {
   "cell_type": "code",
   "execution_count": null,
   "metadata": {},
   "outputs": [],
   "source": [
    "# Run the test\n",
    "cmd = '../bash/thesis.sh faithful'.split()\n",
    "subprocess.run(cmd, capture_output=True)"
   ]
  },
  {
   "cell_type": "code",
   "execution_count": null,
   "metadata": {},
   "outputs": [],
   "source": [
    "# Read densities and clusterings\n",
    "algos = 'Neal2 Neal3 Neal8'.split()\n",
    "mixs = 'DP PY'.split()\n",
    "faithful_dens = dict()\n",
    "faithful_clus = dict()\n",
    "for mix in mixs:\n",
    "    faithful_dens[mix] = dict()\n",
    "    faithful_clus[mix] = dict()\n",
    "    for algo in algos:\n",
    "        fdens = f\"{CSVOUT}/faithful_dens_{algo}_{mix}.csv\"\n",
    "        fclus = f\"{CSVOUT}/faithful_clus_{algo}_{mix}.csv\"\n",
    "        faithful_dens[mix][algo] = np.genfromtxt(fdens, delimiter=',')\n",
    "        faithful_clus[mix][algo] = np.genfromtxt(fclus, delimiter=',')"
   ]
  },
  {
   "cell_type": "code",
   "execution_count": null,
   "metadata": {},
   "outputs": [],
   "source": [
    "# Read data and grid\n",
    "faithful_data = np.genfromtxt(f\"{CSVIN}/faithful.csv\")\n",
    "faithful_grid = np.genfromtxt(f\"{CSVIN}/faithful_grid.csv\")"
   ]
  },
  {
   "cell_type": "code",
   "execution_count": null,
   "metadata": {},
   "outputs": [],
   "source": [
    "# Plot densities\n",
    "fig = plt.figure(figsize=(15,20))\n",
    "idx = 0\n",
    "for algo in algos:\n",
    "    for mix in mixs:\n",
    "        idx += 1\n",
    "        dens = np.exp(np.mean(faithful_dens[mix][algo], axis=0))\n",
    "        ax = fig.add_subplot(3, 2, idx, projection='3d')\n",
    "        ax.scatter(faithful_grid[:,0], faithful_grid[:,1], dens)\n",
    "        ax.set_title(f\"faithful densities with {mix} and {algo}\")"
   ]
  },
  {
   "cell_type": "code",
   "execution_count": null,
   "metadata": {},
   "outputs": [],
   "source": [
    "# Plot clusterings\n",
    "fig = plt.figure(figsize=(14,14))\n",
    "idx = 0\n",
    "for algo in algos:\n",
    "    for mix in mixs:\n",
    "        idx += 1\n",
    "        ax = fig.add_subplot(3, 2, idx)\n",
    "        clus = faithful_clus[mix][algo]\n",
    "        ax.scatter(faithful_data[:,0], faithful_data[:,1], c=clus)\n",
    "        ax.set_title(f\"faithful clusterings with {mix} and {algo}\")"
   ]
  },
  {
   "cell_type": "markdown",
   "metadata": {},
   "source": [
    "## ```dde``` dataset"
   ]
  },
  {
   "cell_type": "code",
   "execution_count": null,
   "metadata": {},
   "outputs": [],
   "source": [
    "# Run the test\n",
    "cmd = '../bash/thesis.sh dde'.split()\n",
    "subprocess.run(cmd, capture_output=True)"
   ]
  },
  {
   "cell_type": "code",
   "execution_count": null,
   "metadata": {},
   "outputs": [],
   "source": [
    "# Read densities and clusterings\n",
    "algos = 'BlockedGibbs'.split()\n",
    "mixs = 'LogSB TruncSB'.split()\n",
    "dde_dens = dict()\n",
    "dde_clus = dict()\n",
    "for mix in mixs:\n",
    "    dde_dens[mix] = dict()\n",
    "    dde_clus[mix] = dict()\n",
    "    for algo in algos:\n",
    "        fdens = f\"{CSVOUT}/dde_dens_{algo}_{mix}.csv\"\n",
    "        fclus = f\"{CSVOUT}/dde_clus_{algo}_{mix}.csv\"\n",
    "        dde_dens[mix][algo] = np.genfromtxt(fdens, delimiter=',')\n",
    "        dde_clus[mix][algo] = np.genfromtxt(fclus, delimiter=',')"
   ]
  },
  {
   "cell_type": "code",
   "execution_count": null,
   "metadata": {},
   "outputs": [],
   "source": [
    "# Read data and grid\n",
    "dde_data = np.genfromtxt(f\"{CSVIN}/dde.csv\")\n",
    "dde_grid = np.genfromtxt(f\"{CSVIN}/dde_grid.csv\")\n",
    "dde_covs_grid = np.genfromtxt(f\"{CSVIN}/dde_covs_grid.csv\")"
   ]
  },
  {
   "cell_type": "code",
   "execution_count": null,
   "metadata": {},
   "outputs": [],
   "source": [
    "# Plot densities\n",
    "fig, ax = plt.subplots(figsize=(10,5))\n",
    "for mix in mixs:\n",
    "    dens = np.exp(np.mean(dde_dens[mix]['BlockedGibbs'], axis=0))\n",
    "    ax.plot(dde_grid, dens)\n",
    "    ax.hist(dde_data, density=True, color='lightgray')\n",
    "    ax.set_title(f\"dde densities with {'BlockedGibbs'} for x={dde_covs_grid}\")\n",
    "    ax.legend(mixs)"
   ]
  },
  {
   "cell_type": "code",
   "execution_count": null,
   "metadata": {},
   "outputs": [],
   "source": []
  }
 ],
 "metadata": {
  "kernelspec": {
   "display_name": "Python 3",
   "language": "python",
   "name": "python3"
  },
  "language_info": {
   "codemirror_mode": {
    "name": "ipython",
    "version": 3
   },
   "file_extension": ".py",
   "mimetype": "text/x-python",
   "name": "python",
   "nbconvert_exporter": "python",
   "pygments_lexer": "ipython3",
   "version": "3.8.6"
  }
 },
 "nbformat": 4,
 "nbformat_minor": 4
}
