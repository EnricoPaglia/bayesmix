{
 "cells": [
  {
   "cell_type": "markdown",
   "metadata": {},
   "source": [
    "# Bayesian linear regression"
   ]
  },
  {
   "cell_type": "code",
   "execution_count": null,
   "metadata": {},
   "outputs": [],
   "source": [
    "import numpy as np\n",
    "import subprocess"
   ]
  },
  {
   "cell_type": "code",
   "execution_count": null,
   "metadata": {},
   "outputs": [],
   "source": [
    "# Initialize true parameters\n",
    "dim = 3\n",
    "betas = [np.array(dim*[-3]), np.array(dim*[+0]), np.array(dim*[+3])]\n",
    "sigma2 = 1"
   ]
  },
  {
   "cell_type": "code",
   "execution_count": null,
   "metadata": {},
   "outputs": [],
   "source": [
    "# Utility to save files with Unix-like newlines\n",
    "def save_np(filename, npobj):\n",
    "    with open(filename, 'wb') as f:\n",
    "        np.savetxt(f, npobj, fmt='%1.5f')"
   ]
  },
  {
   "cell_type": "code",
   "execution_count": null,
   "metadata": {},
   "outputs": [],
   "source": [
    "# Generate data\n",
    "rng = 20201124\n",
    "np.random.seed(rng)\n",
    "n = 100\n",
    "xx = np.random.normal(loc=0.0, scale=1.0, size=(n, dim))\n",
    "cc = np.random.randint(low=0, high=3, size=n)\n",
    "yy = np.zeros(n)\n",
    "for i in range(n):\n",
    "    mu = np.dot(xx[i, :], betas[cc[i]])\n",
    "    y = np.random.normal(loc=mu, scale=sigma2)\n",
    "    yy[i] = y\n",
    "\n",
    "# Generate grid points\n",
    "np.random.seed(rng)\n",
    "yy_grid = np.arange(-5.0, +5.0, 0.1)\n",
    "xx_grid = np.random.normal(loc=0.0, scale=1.0, size=(yy_grid.size, dim))"
   ]
  },
  {
   "cell_type": "code",
   "execution_count": null,
   "metadata": {},
   "outputs": [],
   "source": [
    "# Save data and grid points to file\n",
    "save_np(\"../resources/csv/in/covs_lru.csv\", xx)\n",
    "save_np(\"../resources/csv/in/data_lru.csv\", yy)\n",
    "save_np(\"../resources/csv/in/covs_grid_lru.csv\", xx_grid)\n",
    "save_np(\"../resources/csv/in/grid_lru.csv\", yy_grid)"
   ]
  },
  {
   "cell_type": "code",
   "execution_count": null,
   "metadata": {},
   "outputs": [],
   "source": [
    "# Run the executable\n",
    "cmd = [\"../build/run\",\n",
    "    \"N2\", str(rng), \"0\", \"1000\", \"100\",\n",
    "    \"LinRegUni\", \"../resources/asciipb/lin_reg_univ_fixed.asciipb\",\n",
    "    \"DP\", \"../resources/asciipb/dp_gamma_prior.asciipb\",\n",
    "    \"\",\n",
    "    \"../resources/csv/in/data_lru.csv\",  \"../resources/csv/in/covs_grid_lru.csv\",\n",
    "    \"../resources/csv/out/lru_dens.csv\", \"../resources/csv/out/lru_mass.csv\",\n",
    "    \"../resources/csv/out/lru_nclu.csv\", \"../resources/csv/out/lru_clus.csv\",\n",
    "    \"../resources/csv/in/covs_lru.csv\",  \"../resources/csv/in/covs_grid_lru.csv\"\n",
    "]\n",
    "subprocess.run(cmd, capture_output=True)"
   ]
  },
  {
   "cell_type": "markdown",
   "metadata": {},
   "source": [
    "## Simulation study"
   ]
  },
  {
   "cell_type": "code",
   "execution_count": null,
   "metadata": {},
   "outputs": [],
   "source": [
    "# Utility to read file collector, courtesy of\n",
    "# github.com/mberaha/utils/blob/master/proto_utils/py/recordio.py\n",
    "from google.protobuf.internal.decoder import _DecodeVarint32\n",
    "\n",
    "def readManyFromFile(filename, msgType):\n",
    "    out = []\n",
    "    with open(filename, \"rb\") as fp:\n",
    "        buf = fp.read()\n",
    "    n = 0\n",
    "    while n < len(buf):\n",
    "        msg_len, new_pos = _DecodeVarint32(buf, n)\n",
    "        n = new_pos\n",
    "        msg_buf = buf[n:n+msg_len]\n",
    "        try:\n",
    "            msg = msgType()\n",
    "            msg.ParseFromString(msg_buf)\n",
    "            out.append(msg)\n",
    "            n += msg_len\n",
    "        except Exception as e:\n",
    "            break\n",
    "    return out"
   ]
  },
  {
   "cell_type": "code",
   "execution_count": null,
   "metadata": {},
   "outputs": [],
   "source": [
    "# Read chain\n",
    "import sys\n",
    "sys.path.insert(0, '..')\n",
    "from proto.py.ls_state_pb2 import LinRegUnivLSState\n",
    "\n",
    "chain = readManyFromFile('../lru.recordio', LinRegUnivLSState)"
   ]
  },
  {
   "cell_type": "code",
   "execution_count": null,
   "metadata": {},
   "outputs": [],
   "source": [
    "print(chain)"
   ]
  },
  {
   "cell_type": "markdown",
   "metadata": {},
   "source": [
    "TODO:\n",
    "* Compare the posterior similarity matrix with the true similarity matrix,\n",
    "  the posterior number of clusters, the values of the betas at some iteration\n",
    "  (they should match b_1, ... b_3 roughly)\n",
    "* Check that the MSE on the training set is lower than the MSE you\n",
    "  would get using a standard linear regression"
   ]
  },
  {
   "cell_type": "markdown",
   "metadata": {},
   "source": [
    "## Vs regular linear regression"
   ]
  },
  {
   "cell_type": "code",
   "execution_count": null,
   "metadata": {},
   "outputs": [],
   "source": [
    "from sklearn.linear_model import LinearRegression\n",
    "from sklearn.metrics import mean_squared_error\n",
    "\n",
    "model = LinearRegression()\n",
    "model.fit(xx, yy)\n",
    "mse_sk = mean_squared_error(yy, model.predict(xx))\n",
    "print(mse_sk)  # 12.13"
   ]
  },
  {
   "cell_type": "code",
   "execution_count": null,
   "metadata": {},
   "outputs": [],
   "source": []
  }
 ],
 "metadata": {
  "kernelspec": {
   "display_name": "Python 3",
   "language": "python",
   "name": "python3"
  },
  "language_info": {
   "codemirror_mode": {
    "name": "ipython",
    "version": 3
   },
   "file_extension": ".py",
   "mimetype": "text/x-python",
   "name": "python",
   "nbconvert_exporter": "python",
   "pygments_lexer": "ipython3",
   "version": "3.8.6"
  }
 },
 "nbformat": 4,
 "nbformat_minor": 4
}
