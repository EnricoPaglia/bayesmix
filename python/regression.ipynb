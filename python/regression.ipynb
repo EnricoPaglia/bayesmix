{
 "cells": [
  {
   "cell_type": "code",
   "execution_count": null,
   "metadata": {},
   "outputs": [],
   "source": [
    "import numpy as np\n",
    "import scipy.stats as stats\n",
    "import subprocess"
   ]
  },
  {
   "cell_type": "code",
   "execution_count": null,
   "metadata": {},
   "outputs": [],
   "source": [
    "# Initialize true parameters\n",
    "dim = 3\n",
    "betas = [np.array(dim*[-3]), np.array(dim*[+0]), np.array(dim*[+3])]\n",
    "sigma2 = 1"
   ]
  },
  {
   "cell_type": "code",
   "execution_count": null,
   "metadata": {},
   "outputs": [],
   "source": [
    "# Generate data\n",
    "rng = 20201124\n",
    "np.random.seed(rng)\n",
    "n = 100\n",
    "xx = np.random.normal(loc=0.0, scale=1.0, size=(n, dim))\n",
    "cc = np.random.randint(low=2, size=n)\n",
    "yy = np.zeros(n)\n",
    "for i in range(n):\n",
    "    mu = np.dot(xx[i, :], betas[cc[i]])\n",
    "    y = np.random.normal(loc=mu, scale=sigma2)\n",
    "    yy[i] = y\n",
    "# Save data\n",
    "np.savetxt(\"../resources/csv/in/covs_lru.csv\", xx, fmt='%1.5f')\n",
    "np.savetxt(\"../resources/csv/in/data_lru.csv\", yy, fmt='%1.5f')"
   ]
  },
  {
   "cell_type": "code",
   "execution_count": null,
   "metadata": {},
   "outputs": [],
   "source": [
    "# Generate grid points\n",
    "rng = 20201125\n",
    "np.random.seed(rng)\n",
    "yy_grid = np.arange(-5.0, +5.0, 0.1)\n",
    "xx_grid = np.random.normal(loc=0.0, scale=1.0, size=(yy_grid.size, dim))\n",
    "# Save grid points\n",
    "np.savetxt(\"../resources/csv/in/covs_grid_lru.csv\", xx_grid, fmt='%1.5f')\n",
    "np.savetxt(\"../resources/csv/in/grid_lru.csv\", yy_grid, fmt='%1.5f')"
   ]
  },
  {
   "cell_type": "markdown",
   "metadata": {},
   "source": [
    "TODO:\n",
    "* Compare the posterior similarity matrix with the true similarity matrix,\n",
    "  the posterior number of clusters, the values of the betas at some iteration\n",
    "  (they should match b_1, ... b_3 roughly).\n",
    "* Check that the MSE on the training set is lower than the MSE you\n",
    "  would get using a standard linear regression.\n",
    "* True variance vs state.var"
   ]
  },
  {
   "cell_type": "code",
   "execution_count": null,
   "metadata": {},
   "outputs": [],
   "source": [
    "# Generate grid\n",
    "# grid_uni = np.arange(-10, +10, 0.1)\n",
    "# np.savetxt(\"../resources/csv/in/grid_uni.csv\", grid_uni, fmt='%1.5f')"
   ]
  },
  {
   "cell_type": "code",
   "execution_count": null,
   "metadata": {},
   "outputs": [],
   "source": [
    "# True density of data\n",
    "# true_pdf = 0.5 * stats.norm.pdf(grid_uni, -4.0, 1.0) + \\\n",
    "#            0.5 * stats.norm.pdf(grid_uni, +4.0, 1.0)"
   ]
  },
  {
   "cell_type": "code",
   "execution_count": null,
   "metadata": {},
   "outputs": [],
   "source": [
    "# Run the executable\n",
    "# cmd = [\"../build/run\",\n",
    "#     \"N8\", str(rng), \"0\", \"1000\", \"100\",\n",
    "#     \"NNW\", \"../resources/asciipb/nnw_ngiw_prior.asciipb\",\n",
    "#     \"DP\", \"../resources/asciipb/dp_gamma_prior.asciipb\",\n",
    "#     \"../resources/csv/in/data_multi.csv\", \"../resources/csv/in/grid_multi.csv\",\n",
    "#     \"../resources/csv/out/mn_dens.csv\", \"../resources/csv/out/mn_mass.csv\",\n",
    "#     \"../resources/csv/out/mn_nclu.csv\", \"../resources/csv/out/mn_clus.csv\"\n",
    "# ]\n",
    "# subprocess.run(cmd, capture_output=True)"
   ]
  },
  {
   "cell_type": "code",
   "execution_count": null,
   "metadata": {},
   "outputs": [],
   "source": []
  }
 ],
 "metadata": {
  "kernelspec": {
   "display_name": "Python 3",
   "language": "python",
   "name": "python3"
  },
  "language_info": {
   "codemirror_mode": {
    "name": "ipython",
    "version": 3
   },
   "file_extension": ".py",
   "mimetype": "text/x-python",
   "name": "python",
   "nbconvert_exporter": "python",
   "pygments_lexer": "ipython3",
   "version": "3.8.6"
  }
 },
 "nbformat": 4,
 "nbformat_minor": 4
}
